{
  "nbformat": 4,
  "nbformat_minor": 0,
  "metadata": {
    "colab": {
      "name": "Pancreatic_Cancer_Model_Prediction",
      "provenance": [],
      "collapsed_sections": [],
      "authorship_tag": "ABX9TyNrLA+eC27i7bfZkpT8+zG7",
      "include_colab_link": true
    },
    "kernelspec": {
      "name": "python3",
      "display_name": "Python 3"
    },
    "language_info": {
      "name": "python"
    }
  },
  "cells": [
    {
      "cell_type": "markdown",
      "metadata": {
        "id": "view-in-github",
        "colab_type": "text"
      },
      "source": [
        "<a href=\"https://colab.research.google.com/github/Anchaliya75/Pancreatic-Cancer-Research-Paper-Implementation/blob/main/Pancreatic_Cancer_Model_Prediction.ipynb\" target=\"_parent\"><img src=\"https://colab.research.google.com/assets/colab-badge.svg\" alt=\"Open In Colab\"/></a>"
      ]
    },
    {
      "cell_type": "code",
      "execution_count": 1,
      "metadata": {
        "id": "6GK4ysc2DTmm"
      },
      "outputs": [],
      "source": [
        "# Importing Important Libraries\n",
        "import pandas as pd\n",
        "import numpy as np\n",
        "import matplotlib.pyplot as plt\n",
        "from sklearn.model_selection import train_test_split\n",
        "from sklearn.linear_model import LinearRegression,Ridge,Lasso\n",
        "from sklearn.preprocessing import PolynomialFeatures\n",
        "from sklearn.metrics import r2_score,mean_squared_error\n",
        "from sklearn.preprocessing import PolynomialFeatures\n",
        "import seaborn as sns\n",
        "from pandas_profiling import ProfileReport\n"
      ]
    },
    {
      "cell_type": "code",
      "source": [
        "#Importing Dataset\n",
        "\n",
        "df =pd.read_csv('/content/mmc1tabS1a-202204281228 (2).csv')"
      ],
      "metadata": {
        "id": "7LKKmQxMFRX7"
      },
      "execution_count": 2,
      "outputs": []
    },
    {
      "cell_type": "markdown",
      "source": [
        "# Data Consist of Several Columns\n",
        "\n",
        "\n",
        "*   Dx.Age  ->   Age of patient at the time of diagnosis\n",
        "*   Dx.Date ->   Date Of Diagnosis\n",
        "*   Dx.SzPrim.cm->Size of primary tumor at diagnosis\n",
        "*   Dx.WasPrimExcis->Was primary surgically removed?\n",
        "*   Dx.SzMetsLargest.cm ->Size of Largest Measured Metastasis \n",
        "*   Dx.SzMetsRange.cm ->Size Range of Metastasis (cm)\n",
        "*   RPP.remark    ->Recurrence within Remnant Pancreas (if has tumor removed) or documented increase in size of unresectable pancreatic mass before death?\n",
        "*   RPP.Date\t->Date that recurrence/ progression in pancreas first documented\n",
        "*   RPP.SzPanc.cm->Size of Mass in Pancreas (cm)\n",
        "*   MR.remark ->Metastatic Recurrence (or new metastases) after Initial Diagnosis?\n",
        "*  MR.Date  ->Date that metastases first documented\n",
        "*  MR.SzMetsLargest.cm->Size of Largest Measured Metastasis (cm)\n",
        "*  MP.remark ->Progression of Metastases previously documented (initial diagnosis or afterwards)?\n",
        "* MP.Date ->Date of Documented Progression of Metastases after first found?\n",
        "* MP.SzMetsLargest.cm  ->Size of Largest Measured Metastasis (cm)\n",
        "* Aut.DateDeath  -> Date of Death\n",
        "* Aut.Panc  ->Findings in Pancreas at Autopsy\n",
        "* Aut.SzReTumorPanc->Size of Recurrent Tumor in Pancreas\n",
        "* Aut.SzPrim.cm  ->Size of Primary at Autopsy (cm)\n",
        "* Aut.MetsBurden ->Metastatic Burden at Autopsy\n",
        "* Aut.MeanSzMets.cm ->Mean Size of Metastases (cm)\n",
        "* Aut.SzMetsRange.cm ->Range of Metastases (cm)\n",
        "* Aut.minSzMetsRange.cm ->Min Size Of Metastases(cm)\n",
        "* Aut.maxSzMetsRange.cm  ->max Size Of Metastases(cm)\n",
        "*  timeline ->Difference between Date Of Dignostic and date Of Death\n",
        "*Result->Whether alive or dead as all are dead hence all are 1 useful in Survival Models\n",
        "\n",
        "\n",
        "\n"
      ],
      "metadata": {
        "id": "Q41fAzXqjK-5"
      }
    },
    {
      "cell_type": "code",
      "source": [
        "df.drop(columns=['Case'],axis =0,inplace =True) "
      ],
      "metadata": {
        "id": "Tgu01FotFaK4"
      },
      "execution_count": 3,
      "outputs": []
    },
    {
      "cell_type": "code",
      "source": [
        "df.head()  # Looking at data"
      ],
      "metadata": {
        "id": "hQHtVSDZFfDV",
        "colab": {
          "base_uri": "https://localhost:8080/",
          "height": 508
        },
        "outputId": "a2c9f534-16e9-439f-c89c-a61930bcf29c"
      },
      "execution_count": 4,
      "outputs": [
        {
          "output_type": "execute_result",
          "data": {
            "text/plain": [
              "   Dx.Age     Dx.Date  Dx.SzPrim.cm Dx.WasPrimExcis  Dx.SzMetsLargest.cm  \\\n",
              "0      84  05-05-1995           6.0              No                  NaN   \n",
              "1      62  16-12-2002           3.0              No                  2.0   \n",
              "2      67  25-07-2002           2.0              No                  2.0   \n",
              "3      47  02-12-2002           5.0              No                  NaN   \n",
              "4      57  15-01-2003           4.0              No                  1.0   \n",
              "\n",
              "  Dx.SzMetsRange.cm RPP.remark    RPP.Date  RPP.SzPanc.cm  \\\n",
              "0                 x    no data         NaN            NaN   \n",
              "1            01-Feb        Yes  27-01-2003            7.0   \n",
              "2            01-Feb        Yes  12-05-2003            4.0   \n",
              "3                 x         No         NaN            NaN   \n",
              "4             0.3-1         No         NaN            NaN   \n",
              "\n",
              "                                   MR.remark  ...                Aut.Panc  \\\n",
              "0                                    no data  ...  Present (Not Resected)   \n",
              "1  Yes, increase in size and number in liver  ...  Present (Not Resected)   \n",
              "2                                        Yes  ...  Present (Not Resected)   \n",
              "3                                         No  ...  Present (Not Resected)   \n",
              "4                                         No  ...  Present (Not Resected)   \n",
              "\n",
              "   Aut.SzReTumorPanc Aut.SzPrim.cm Aut.MetsBurden  Aut.MeanSzMets.cm  \\\n",
              "0                NaN           6.0        000to10                1.0   \n",
              "1                NaN           4.0    100sto1000s                0.3   \n",
              "2                NaN           4.0       011to100                3.0   \n",
              "3                NaN           5.0        000to10                NaN   \n",
              "4                NaN           5.0    100sto1000s                0.5   \n",
              "\n",
              "  Aut.SzMetsRange.cm Aut.minSzMetsRange.cm  Aut.maxSzMetsRange.cm  timeline  \\\n",
              "0            0.5-2.8                   0.5                    2.8       174   \n",
              "1              0.2-2                   0.2                    2.0       161   \n",
              "2            1.0-5.0                   1.0                    5.0       334   \n",
              "3                NaN                   NaN                    NaN       256   \n",
              "4            0.2-2.0                   0.2                    2.0       229   \n",
              "\n",
              "  result  \n",
              "0      1  \n",
              "1      1  \n",
              "2      1  \n",
              "3      1  \n",
              "4      1  \n",
              "\n",
              "[5 rows x 26 columns]"
            ],
            "text/html": [
              "\n",
              "  <div id=\"df-0cc7cde7-89f8-4896-85e9-e4dba2488d3c\">\n",
              "    <div class=\"colab-df-container\">\n",
              "      <div>\n",
              "<style scoped>\n",
              "    .dataframe tbody tr th:only-of-type {\n",
              "        vertical-align: middle;\n",
              "    }\n",
              "\n",
              "    .dataframe tbody tr th {\n",
              "        vertical-align: top;\n",
              "    }\n",
              "\n",
              "    .dataframe thead th {\n",
              "        text-align: right;\n",
              "    }\n",
              "</style>\n",
              "<table border=\"1\" class=\"dataframe\">\n",
              "  <thead>\n",
              "    <tr style=\"text-align: right;\">\n",
              "      <th></th>\n",
              "      <th>Dx.Age</th>\n",
              "      <th>Dx.Date</th>\n",
              "      <th>Dx.SzPrim.cm</th>\n",
              "      <th>Dx.WasPrimExcis</th>\n",
              "      <th>Dx.SzMetsLargest.cm</th>\n",
              "      <th>Dx.SzMetsRange.cm</th>\n",
              "      <th>RPP.remark</th>\n",
              "      <th>RPP.Date</th>\n",
              "      <th>RPP.SzPanc.cm</th>\n",
              "      <th>MR.remark</th>\n",
              "      <th>...</th>\n",
              "      <th>Aut.Panc</th>\n",
              "      <th>Aut.SzReTumorPanc</th>\n",
              "      <th>Aut.SzPrim.cm</th>\n",
              "      <th>Aut.MetsBurden</th>\n",
              "      <th>Aut.MeanSzMets.cm</th>\n",
              "      <th>Aut.SzMetsRange.cm</th>\n",
              "      <th>Aut.minSzMetsRange.cm</th>\n",
              "      <th>Aut.maxSzMetsRange.cm</th>\n",
              "      <th>timeline</th>\n",
              "      <th>result</th>\n",
              "    </tr>\n",
              "  </thead>\n",
              "  <tbody>\n",
              "    <tr>\n",
              "      <th>0</th>\n",
              "      <td>84</td>\n",
              "      <td>05-05-1995</td>\n",
              "      <td>6.0</td>\n",
              "      <td>No</td>\n",
              "      <td>NaN</td>\n",
              "      <td>x</td>\n",
              "      <td>no data</td>\n",
              "      <td>NaN</td>\n",
              "      <td>NaN</td>\n",
              "      <td>no data</td>\n",
              "      <td>...</td>\n",
              "      <td>Present (Not Resected)</td>\n",
              "      <td>NaN</td>\n",
              "      <td>6.0</td>\n",
              "      <td>000to10</td>\n",
              "      <td>1.0</td>\n",
              "      <td>0.5-2.8</td>\n",
              "      <td>0.5</td>\n",
              "      <td>2.8</td>\n",
              "      <td>174</td>\n",
              "      <td>1</td>\n",
              "    </tr>\n",
              "    <tr>\n",
              "      <th>1</th>\n",
              "      <td>62</td>\n",
              "      <td>16-12-2002</td>\n",
              "      <td>3.0</td>\n",
              "      <td>No</td>\n",
              "      <td>2.0</td>\n",
              "      <td>01-Feb</td>\n",
              "      <td>Yes</td>\n",
              "      <td>27-01-2003</td>\n",
              "      <td>7.0</td>\n",
              "      <td>Yes, increase in size and number in liver</td>\n",
              "      <td>...</td>\n",
              "      <td>Present (Not Resected)</td>\n",
              "      <td>NaN</td>\n",
              "      <td>4.0</td>\n",
              "      <td>100sto1000s</td>\n",
              "      <td>0.3</td>\n",
              "      <td>0.2-2</td>\n",
              "      <td>0.2</td>\n",
              "      <td>2.0</td>\n",
              "      <td>161</td>\n",
              "      <td>1</td>\n",
              "    </tr>\n",
              "    <tr>\n",
              "      <th>2</th>\n",
              "      <td>67</td>\n",
              "      <td>25-07-2002</td>\n",
              "      <td>2.0</td>\n",
              "      <td>No</td>\n",
              "      <td>2.0</td>\n",
              "      <td>01-Feb</td>\n",
              "      <td>Yes</td>\n",
              "      <td>12-05-2003</td>\n",
              "      <td>4.0</td>\n",
              "      <td>Yes</td>\n",
              "      <td>...</td>\n",
              "      <td>Present (Not Resected)</td>\n",
              "      <td>NaN</td>\n",
              "      <td>4.0</td>\n",
              "      <td>011to100</td>\n",
              "      <td>3.0</td>\n",
              "      <td>1.0-5.0</td>\n",
              "      <td>1.0</td>\n",
              "      <td>5.0</td>\n",
              "      <td>334</td>\n",
              "      <td>1</td>\n",
              "    </tr>\n",
              "    <tr>\n",
              "      <th>3</th>\n",
              "      <td>47</td>\n",
              "      <td>02-12-2002</td>\n",
              "      <td>5.0</td>\n",
              "      <td>No</td>\n",
              "      <td>NaN</td>\n",
              "      <td>x</td>\n",
              "      <td>No</td>\n",
              "      <td>NaN</td>\n",
              "      <td>NaN</td>\n",
              "      <td>No</td>\n",
              "      <td>...</td>\n",
              "      <td>Present (Not Resected)</td>\n",
              "      <td>NaN</td>\n",
              "      <td>5.0</td>\n",
              "      <td>000to10</td>\n",
              "      <td>NaN</td>\n",
              "      <td>NaN</td>\n",
              "      <td>NaN</td>\n",
              "      <td>NaN</td>\n",
              "      <td>256</td>\n",
              "      <td>1</td>\n",
              "    </tr>\n",
              "    <tr>\n",
              "      <th>4</th>\n",
              "      <td>57</td>\n",
              "      <td>15-01-2003</td>\n",
              "      <td>4.0</td>\n",
              "      <td>No</td>\n",
              "      <td>1.0</td>\n",
              "      <td>0.3-1</td>\n",
              "      <td>No</td>\n",
              "      <td>NaN</td>\n",
              "      <td>NaN</td>\n",
              "      <td>No</td>\n",
              "      <td>...</td>\n",
              "      <td>Present (Not Resected)</td>\n",
              "      <td>NaN</td>\n",
              "      <td>5.0</td>\n",
              "      <td>100sto1000s</td>\n",
              "      <td>0.5</td>\n",
              "      <td>0.2-2.0</td>\n",
              "      <td>0.2</td>\n",
              "      <td>2.0</td>\n",
              "      <td>229</td>\n",
              "      <td>1</td>\n",
              "    </tr>\n",
              "  </tbody>\n",
              "</table>\n",
              "<p>5 rows × 26 columns</p>\n",
              "</div>\n",
              "      <button class=\"colab-df-convert\" onclick=\"convertToInteractive('df-0cc7cde7-89f8-4896-85e9-e4dba2488d3c')\"\n",
              "              title=\"Convert this dataframe to an interactive table.\"\n",
              "              style=\"display:none;\">\n",
              "        \n",
              "  <svg xmlns=\"http://www.w3.org/2000/svg\" height=\"24px\"viewBox=\"0 0 24 24\"\n",
              "       width=\"24px\">\n",
              "    <path d=\"M0 0h24v24H0V0z\" fill=\"none\"/>\n",
              "    <path d=\"M18.56 5.44l.94 2.06.94-2.06 2.06-.94-2.06-.94-.94-2.06-.94 2.06-2.06.94zm-11 1L8.5 8.5l.94-2.06 2.06-.94-2.06-.94L8.5 2.5l-.94 2.06-2.06.94zm10 10l.94 2.06.94-2.06 2.06-.94-2.06-.94-.94-2.06-.94 2.06-2.06.94z\"/><path d=\"M17.41 7.96l-1.37-1.37c-.4-.4-.92-.59-1.43-.59-.52 0-1.04.2-1.43.59L10.3 9.45l-7.72 7.72c-.78.78-.78 2.05 0 2.83L4 21.41c.39.39.9.59 1.41.59.51 0 1.02-.2 1.41-.59l7.78-7.78 2.81-2.81c.8-.78.8-2.07 0-2.86zM5.41 20L4 18.59l7.72-7.72 1.47 1.35L5.41 20z\"/>\n",
              "  </svg>\n",
              "      </button>\n",
              "      \n",
              "  <style>\n",
              "    .colab-df-container {\n",
              "      display:flex;\n",
              "      flex-wrap:wrap;\n",
              "      gap: 12px;\n",
              "    }\n",
              "\n",
              "    .colab-df-convert {\n",
              "      background-color: #E8F0FE;\n",
              "      border: none;\n",
              "      border-radius: 50%;\n",
              "      cursor: pointer;\n",
              "      display: none;\n",
              "      fill: #1967D2;\n",
              "      height: 32px;\n",
              "      padding: 0 0 0 0;\n",
              "      width: 32px;\n",
              "    }\n",
              "\n",
              "    .colab-df-convert:hover {\n",
              "      background-color: #E2EBFA;\n",
              "      box-shadow: 0px 1px 2px rgba(60, 64, 67, 0.3), 0px 1px 3px 1px rgba(60, 64, 67, 0.15);\n",
              "      fill: #174EA6;\n",
              "    }\n",
              "\n",
              "    [theme=dark] .colab-df-convert {\n",
              "      background-color: #3B4455;\n",
              "      fill: #D2E3FC;\n",
              "    }\n",
              "\n",
              "    [theme=dark] .colab-df-convert:hover {\n",
              "      background-color: #434B5C;\n",
              "      box-shadow: 0px 1px 3px 1px rgba(0, 0, 0, 0.15);\n",
              "      filter: drop-shadow(0px 1px 2px rgba(0, 0, 0, 0.3));\n",
              "      fill: #FFFFFF;\n",
              "    }\n",
              "  </style>\n",
              "\n",
              "      <script>\n",
              "        const buttonEl =\n",
              "          document.querySelector('#df-0cc7cde7-89f8-4896-85e9-e4dba2488d3c button.colab-df-convert');\n",
              "        buttonEl.style.display =\n",
              "          google.colab.kernel.accessAllowed ? 'block' : 'none';\n",
              "\n",
              "        async function convertToInteractive(key) {\n",
              "          const element = document.querySelector('#df-0cc7cde7-89f8-4896-85e9-e4dba2488d3c');\n",
              "          const dataTable =\n",
              "            await google.colab.kernel.invokeFunction('convertToInteractive',\n",
              "                                                     [key], {});\n",
              "          if (!dataTable) return;\n",
              "\n",
              "          const docLinkHtml = 'Like what you see? Visit the ' +\n",
              "            '<a target=\"_blank\" href=https://colab.research.google.com/notebooks/data_table.ipynb>data table notebook</a>'\n",
              "            + ' to learn more about interactive tables.';\n",
              "          element.innerHTML = '';\n",
              "          dataTable['output_type'] = 'display_data';\n",
              "          await google.colab.output.renderOutput(dataTable, element);\n",
              "          const docLink = document.createElement('div');\n",
              "          docLink.innerHTML = docLinkHtml;\n",
              "          element.appendChild(docLink);\n",
              "        }\n",
              "      </script>\n",
              "    </div>\n",
              "  </div>\n",
              "  "
            ]
          },
          "metadata": {},
          "execution_count": 4
        }
      ]
    },
    {
      "cell_type": "code",
      "source": [
        "df.info()"
      ],
      "metadata": {
        "id": "4XYrIdpMFiQ5",
        "colab": {
          "base_uri": "https://localhost:8080/"
        },
        "outputId": "3ffad675-77a2-4a7d-f3fc-7d52760fd781"
      },
      "execution_count": 5,
      "outputs": [
        {
          "output_type": "stream",
          "name": "stdout",
          "text": [
            "<class 'pandas.core.frame.DataFrame'>\n",
            "RangeIndex: 101 entries, 0 to 100\n",
            "Data columns (total 26 columns):\n",
            " #   Column                 Non-Null Count  Dtype  \n",
            "---  ------                 --------------  -----  \n",
            " 0   Dx.Age                 101 non-null    int64  \n",
            " 1   Dx.Date                101 non-null    object \n",
            " 2   Dx.SzPrim.cm           101 non-null    float64\n",
            " 3   Dx.WasPrimExcis        101 non-null    object \n",
            " 4   Dx.SzMetsLargest.cm    36 non-null     float64\n",
            " 5   Dx.SzMetsRange.cm      100 non-null    object \n",
            " 6   RPP.remark             101 non-null    object \n",
            " 7   RPP.Date               44 non-null     object \n",
            " 8   RPP.SzPanc.cm          40 non-null     float64\n",
            " 9   MR.remark              97 non-null     object \n",
            " 10  MR.Date                44 non-null     object \n",
            " 11  MR.SzMetsLargest.cm    41 non-null     float64\n",
            " 12  MP.remark              97 non-null     object \n",
            " 13  MP.Date                26 non-null     object \n",
            " 14  MP.SzMetsLargest.cm    26 non-null     float64\n",
            " 15  Aut.DateDeath          101 non-null    object \n",
            " 16  Aut.Panc               101 non-null    object \n",
            " 17  Aut.SzReTumorPanc      20 non-null     float64\n",
            " 18  Aut.SzPrim.cm          75 non-null     float64\n",
            " 19  Aut.MetsBurden         101 non-null    object \n",
            " 20  Aut.MeanSzMets.cm      84 non-null     float64\n",
            " 21  Aut.SzMetsRange.cm     83 non-null     object \n",
            " 22  Aut.minSzMetsRange.cm  83 non-null     float64\n",
            " 23  Aut.maxSzMetsRange.cm  83 non-null     float64\n",
            " 24  timeline               101 non-null    int64  \n",
            " 25  result                 101 non-null    int64  \n",
            "dtypes: float64(10), int64(3), object(13)\n",
            "memory usage: 20.6+ KB\n"
          ]
        }
      ]
    },
    {
      "cell_type": "code",
      "source": [
        "df['Dx.WasPrimExcis'] = df['Dx.WasPrimExcis'].map(\n",
        "                   {'Yes':1 ,'No':0})# Mapping Dx.SzPrim.cmcolumn(Size of primary tumor at diagnosis) to 1 and 0\n",
        "#for prediction 1 means there is a surgery and 0 means No surgery"
      ],
      "metadata": {
        "id": "O3pbqYy4lBI7"
      },
      "execution_count": 6,
      "outputs": []
    },
    {
      "cell_type": "code",
      "source": [
        "df_int4_float_64 =df.select_dtypes(include=['int64','float64']).columns"
      ],
      "metadata": {
        "id": "PhqRwJXhkv0L"
      },
      "execution_count": 29,
      "outputs": []
    },
    {
      "cell_type": "code",
      "source": [
        "df_lasso=df[df_int4_float_64]\n",
        "df_ridge=df[df_int4_float_64]\n",
        "df_xgboost=df[df_int4_float_64]"
      ],
      "metadata": {
        "id": "1iDe9Y6jkxIZ"
      },
      "execution_count": 30,
      "outputs": []
    },
    {
      "cell_type": "code",
      "source": [
        "df_lasso.info()"
      ],
      "metadata": {
        "id": "3YAskIMGkzxX",
        "colab": {
          "base_uri": "https://localhost:8080/"
        },
        "outputId": "74cc9cbc-3dc2-4f24-d2f5-8a9c68d6bbd9"
      },
      "execution_count": 31,
      "outputs": [
        {
          "output_type": "stream",
          "name": "stdout",
          "text": [
            "<class 'pandas.core.frame.DataFrame'>\n",
            "RangeIndex: 101 entries, 0 to 100\n",
            "Data columns (total 14 columns):\n",
            " #   Column                 Non-Null Count  Dtype  \n",
            "---  ------                 --------------  -----  \n",
            " 0   Dx.Age                 101 non-null    int64  \n",
            " 1   Dx.SzPrim.cm           101 non-null    float64\n",
            " 2   Dx.WasPrimExcis        101 non-null    int64  \n",
            " 3   Dx.SzMetsLargest.cm    36 non-null     float64\n",
            " 4   RPP.SzPanc.cm          40 non-null     float64\n",
            " 5   MR.SzMetsLargest.cm    41 non-null     float64\n",
            " 6   MP.SzMetsLargest.cm    26 non-null     float64\n",
            " 7   Aut.SzReTumorPanc      20 non-null     float64\n",
            " 8   Aut.SzPrim.cm          75 non-null     float64\n",
            " 9   Aut.MeanSzMets.cm      84 non-null     float64\n",
            " 10  Aut.minSzMetsRange.cm  83 non-null     float64\n",
            " 11  Aut.maxSzMetsRange.cm  83 non-null     float64\n",
            " 12  timeline               101 non-null    int64  \n",
            " 13  result                 101 non-null    int64  \n",
            "dtypes: float64(10), int64(4)\n",
            "memory usage: 11.2 KB\n"
          ]
        }
      ]
    },
    {
      "cell_type": "code",
      "source": [
        "# Fill missing values with median values\n",
        "df_lasso= df_lasso.apply(lambda x: x.fillna(x.median()),axis=0)\n",
        "df_ridge=df_ridge.apply(lambda x :x.fillna(x.median()),axis=0)\n",
        "df_xgboost=df_xgboost.apply(lambda x :x.fillna(x.median()),axis=0)"
      ],
      "metadata": {
        "id": "u8fxP2zDk2EI"
      },
      "execution_count": 32,
      "outputs": []
    },
    {
      "cell_type": "code",
      "source": [
        "df_lasso.info()"
      ],
      "metadata": {
        "id": "HiuVD91Kl4PM",
        "colab": {
          "base_uri": "https://localhost:8080/"
        },
        "outputId": "659123cd-1c0f-44a6-949d-fb6a6c286947"
      },
      "execution_count": 33,
      "outputs": [
        {
          "output_type": "stream",
          "name": "stdout",
          "text": [
            "<class 'pandas.core.frame.DataFrame'>\n",
            "RangeIndex: 101 entries, 0 to 100\n",
            "Data columns (total 14 columns):\n",
            " #   Column                 Non-Null Count  Dtype  \n",
            "---  ------                 --------------  -----  \n",
            " 0   Dx.Age                 101 non-null    int64  \n",
            " 1   Dx.SzPrim.cm           101 non-null    float64\n",
            " 2   Dx.WasPrimExcis        101 non-null    int64  \n",
            " 3   Dx.SzMetsLargest.cm    101 non-null    float64\n",
            " 4   RPP.SzPanc.cm          101 non-null    float64\n",
            " 5   MR.SzMetsLargest.cm    101 non-null    float64\n",
            " 6   MP.SzMetsLargest.cm    101 non-null    float64\n",
            " 7   Aut.SzReTumorPanc      101 non-null    float64\n",
            " 8   Aut.SzPrim.cm          101 non-null    float64\n",
            " 9   Aut.MeanSzMets.cm      101 non-null    float64\n",
            " 10  Aut.minSzMetsRange.cm  101 non-null    float64\n",
            " 11  Aut.maxSzMetsRange.cm  101 non-null    float64\n",
            " 12  timeline               101 non-null    int64  \n",
            " 13  result                 101 non-null    int64  \n",
            "dtypes: float64(10), int64(4)\n",
            "memory usage: 11.2 KB\n"
          ]
        }
      ]
    },
    {
      "cell_type": "code",
      "source": [
        "df_ridge.info()"
      ],
      "metadata": {
        "id": "KBxIZgRi7EyU",
        "colab": {
          "base_uri": "https://localhost:8080/"
        },
        "outputId": "8dde2fde-0347-4ae9-88f4-107d62863d75"
      },
      "execution_count": 34,
      "outputs": [
        {
          "output_type": "stream",
          "name": "stdout",
          "text": [
            "<class 'pandas.core.frame.DataFrame'>\n",
            "RangeIndex: 101 entries, 0 to 100\n",
            "Data columns (total 14 columns):\n",
            " #   Column                 Non-Null Count  Dtype  \n",
            "---  ------                 --------------  -----  \n",
            " 0   Dx.Age                 101 non-null    int64  \n",
            " 1   Dx.SzPrim.cm           101 non-null    float64\n",
            " 2   Dx.WasPrimExcis        101 non-null    int64  \n",
            " 3   Dx.SzMetsLargest.cm    101 non-null    float64\n",
            " 4   RPP.SzPanc.cm          101 non-null    float64\n",
            " 5   MR.SzMetsLargest.cm    101 non-null    float64\n",
            " 6   MP.SzMetsLargest.cm    101 non-null    float64\n",
            " 7   Aut.SzReTumorPanc      101 non-null    float64\n",
            " 8   Aut.SzPrim.cm          101 non-null    float64\n",
            " 9   Aut.MeanSzMets.cm      101 non-null    float64\n",
            " 10  Aut.minSzMetsRange.cm  101 non-null    float64\n",
            " 11  Aut.maxSzMetsRange.cm  101 non-null    float64\n",
            " 12  timeline               101 non-null    int64  \n",
            " 13  result                 101 non-null    int64  \n",
            "dtypes: float64(10), int64(4)\n",
            "memory usage: 11.2 KB\n"
          ]
        }
      ]
    },
    {
      "cell_type": "code",
      "source": [
        "Y_lasso=df_lasso['timeline']\n",
        "df_lasso.drop(columns=[\"timeline\",\"result\",\"Aut.maxSzMetsRange.cm\",\"Aut.minSzMetsRange.cm\",\"Aut.MeanSzMets.cm\",\"Aut.SzPrim.cm\",\"Aut.SzReTumorPanc\",\"MP.SzMetsLargest.cm\",],inplace=True)"
      ],
      "metadata": {
        "id": "Y2yfxmFCllIe"
      },
      "execution_count": 35,
      "outputs": []
    },
    {
      "cell_type": "code",
      "source": [
        "Y_ridge=df_ridge['timeline']\n",
        "df_ridge.drop(columns=[\"timeline\",\"result\",\"Aut.maxSzMetsRange.cm\",\"Aut.minSzMetsRange.cm\",\"Aut.MeanSzMets.cm\",\"Aut.SzPrim.cm\",\"Aut.SzReTumorPanc\",\"MP.SzMetsLargest.cm\",],inplace=True)"
      ],
      "metadata": {
        "id": "HP-uIQBp6Skc"
      },
      "execution_count": 36,
      "outputs": []
    },
    {
      "cell_type": "code",
      "source": [
        "Y_xgboost=df_xgboost['timeline']\n",
        "df_xgboost.drop(columns=[\"timeline\",\"result\",\"Aut.maxSzMetsRange.cm\",\"Aut.minSzMetsRange.cm\",\"Aut.MeanSzMets.cm\",\"Aut.SzPrim.cm\",\"Aut.SzReTumorPanc\",\"MP.SzMetsLargest.cm\",],inplace=True)"
      ],
      "metadata": {
        "id": "o-lPqNx56Xtk"
      },
      "execution_count": 37,
      "outputs": []
    },
    {
      "cell_type": "code",
      "source": [
        "X_lasso=df_lasso.to_numpy()\n",
        "Y_lasso=Y_lasso.to_numpy().reshape(-1,1)"
      ],
      "metadata": {
        "id": "owXxYZ4jlsi5"
      },
      "execution_count": 38,
      "outputs": []
    },
    {
      "cell_type": "code",
      "source": [
        "X_ridge=df_ridge.to_numpy()\n",
        "Y_ridge=Y_ridge.to_numpy().reshape(-1,1)\n",
        "\n"
      ],
      "metadata": {
        "id": "ptDHi8iI7n51"
      },
      "execution_count": 39,
      "outputs": []
    },
    {
      "cell_type": "code",
      "source": [
        "X_xgboost=df_xgboost.to_numpy()\n",
        "Y_xgboost=Y_xgboost.to_numpy().reshape(-1,1)"
      ],
      "metadata": {
        "id": "CFm3lBPR8Dvw"
      },
      "execution_count": 40,
      "outputs": []
    },
    {
      "cell_type": "code",
      "source": [
        "#Optimisation Karna hain \n",
        "alphas = [-5, -1, 1e-4, 1e-3, 1e-2, 1, 5]\n",
        "\n",
        "def test_alpha(a):\n",
        "    model_lasso = Lasso(alpha=a)\n",
        "    model_lasso.fit(X_lasso, Y_lasso) \n",
        "    pred_test_lasso = model_lasso.predict(X_lasso)\n",
        "    new_score = r2_score(Y_lasso, pred_test_lasso)\n",
        "    new_mse = mean_squared_error(Y_lasso, pred_test_lasso)\n",
        "    print('ALPHA: {:.3f} R2 SCORE: {:.4f}% new_score, {:.1f}'.format(a, new_score, new_mse))\n",
        "    \n",
        "    \n",
        "for alpha in alphas:\n",
        "   test_alpha(alpha)\n",
        "\n"
      ],
      "metadata": {
        "id": "Eh0d_ti6mxqa",
        "colab": {
          "base_uri": "https://localhost:8080/"
        },
        "outputId": "d53791dd-8b19-4c85-c87a-2b0a1c403db7"
      },
      "execution_count": 41,
      "outputs": [
        {
          "output_type": "stream",
          "name": "stdout",
          "text": [
            "ALPHA: -5.000 R2 SCORE: 0.2553% new_score, 157979.7\n",
            "ALPHA: -1.000 R2 SCORE: 0.2563% new_score, 157778.0\n",
            "ALPHA: 0.000 R2 SCORE: 0.2563% new_score, 157769.6\n",
            "ALPHA: 0.001 R2 SCORE: 0.2563% new_score, 157769.6\n",
            "ALPHA: 0.010 R2 SCORE: 0.2563% new_score, 157769.6\n",
            "ALPHA: 1.000 R2 SCORE: 0.2563% new_score, 157778.0\n",
            "ALPHA: 5.000 R2 SCORE: 0.2554% new_score, 157973.3\n"
          ]
        },
        {
          "output_type": "stream",
          "name": "stderr",
          "text": [
            "/usr/local/lib/python3.7/dist-packages/sklearn/linear_model/_coordinate_descent.py:648: ConvergenceWarning: Objective did not converge. You might want to increase the number of iterations, check the scale of the features or consider increasing regularisation. Duality gap: 3.121e+07, tolerance: 2.143e+03 Linear regression models with null weight for the l1 regularization term are more efficiently fitted using one of the solvers implemented in sklearn.linear_model.Ridge/RidgeCV instead.\n",
            "  coef_, l1_reg, l2_reg, X, y, max_iter, tol, rng, random, positive\n",
            "/usr/local/lib/python3.7/dist-packages/sklearn/linear_model/_coordinate_descent.py:648: ConvergenceWarning: Objective did not converge. You might want to increase the number of iterations, check the scale of the features or consider increasing regularisation. Duality gap: 3.174e+07, tolerance: 2.143e+03 Linear regression models with null weight for the l1 regularization term are more efficiently fitted using one of the solvers implemented in sklearn.linear_model.Ridge/RidgeCV instead.\n",
            "  coef_, l1_reg, l2_reg, X, y, max_iter, tol, rng, random, positive\n"
          ]
        }
      ]
    },
    {
      "cell_type": "code",
      "source": [
        "alphas = [-5, -1, 1e-4, 1e-3, 1e-2, 1, 5]\n",
        "\n",
        "def test_alpha_ridge(a):\n",
        "    model_ridge = Ridge(alpha=a)\n",
        "    model_ridge.fit(X_ridge, Y_ridge) \n",
        "    pred_test_ridge = model_ridge.predict(X_ridge)\n",
        "    new_score = r2_score(Y_ridge, pred_test_ridge)\n",
        "    new_mse = mean_squared_error(Y_ridge, pred_test_ridge)\n",
        "    print('ALPHA: {:.3f} R2 SCORE: {:.4f}% new_score, {:.1f}'.format(a, new_score, new_mse))\n",
        "    \n",
        "    \n",
        "for alpha in alphas:\n",
        "    test_alpha_ridge(alpha)"
      ],
      "metadata": {
        "id": "PuIVjWLMnpQy",
        "colab": {
          "base_uri": "https://localhost:8080/"
        },
        "outputId": "667ef8b8-af99-4a84-d550-30ad5aa352e4"
      },
      "execution_count": 42,
      "outputs": [
        {
          "output_type": "stream",
          "name": "stdout",
          "text": [
            "ALPHA: -5.000 R2 SCORE: 0.2276% new_score, 163867.0\n",
            "ALPHA: -1.000 R2 SCORE: 0.2557% new_score, 157908.0\n",
            "ALPHA: 0.000 R2 SCORE: 0.2563% new_score, 157769.6\n",
            "ALPHA: 0.001 R2 SCORE: 0.2563% new_score, 157769.6\n",
            "ALPHA: 0.010 R2 SCORE: 0.2563% new_score, 157769.6\n",
            "ALPHA: 1.000 R2 SCORE: 0.2558% new_score, 157879.3\n",
            "ALPHA: 5.000 R2 SCORE: 0.2476% new_score, 159617.5\n"
          ]
        }
      ]
    },
    {
      "cell_type": "code",
      "source": [
        "from xgboost import XGBRegressor\n",
        "\n",
        "my_model = XGBRegressor()\n",
        "# Add silent=True to avoid printing out updates with each cycle\n",
        "my_model.fit(X_xgboost,Y_xgboost, verbose=False)"
      ],
      "metadata": {
        "id": "UokaqVpnoY-R",
        "colab": {
          "base_uri": "https://localhost:8080/"
        },
        "outputId": "a414c10c-ea28-4153-aabc-e3133123f742"
      },
      "execution_count": 43,
      "outputs": [
        {
          "output_type": "stream",
          "name": "stdout",
          "text": [
            "[17:58:51] WARNING: /workspace/src/objective/regression_obj.cu:152: reg:linear is now deprecated in favor of reg:squarederror.\n"
          ]
        },
        {
          "output_type": "execute_result",
          "data": {
            "text/plain": [
              "XGBRegressor()"
            ]
          },
          "metadata": {},
          "execution_count": 43
        }
      ]
    },
    {
      "cell_type": "code",
      "source": [
        "Y_xgboost=Y_xgboost.reshape(-1,)"
      ],
      "metadata": {
        "id": "UX0Zk8Wd4Av-"
      },
      "execution_count": 44,
      "outputs": []
    },
    {
      "cell_type": "code",
      "source": [
        "predicted=my_model.predict(X_lasso)\n",
        "r2_score(predicted,Y_xgboost )# Score is on training data "
      ],
      "metadata": {
        "id": "6TBPQMvZpDnr",
        "colab": {
          "base_uri": "https://localhost:8080/"
        },
        "outputId": "b04323db-3bd4-4a15-9e79-c1bc177bfaad"
      },
      "execution_count": 45,
      "outputs": [
        {
          "output_type": "execute_result",
          "data": {
            "text/plain": [
              "0.7838717628328372"
            ]
          },
          "metadata": {},
          "execution_count": 45
        }
      ]
    },
    {
      "cell_type": "code",
      "source": [
        "plt.scatter(x=Y_xgboost, y=predicted)\n",
        "plt.show()\n",
        "# Y axis is Predicted value and X-axis is label The closeness shows the quality of fit"
      ],
      "metadata": {
        "id": "u-5efvds4lNQ",
        "colab": {
          "base_uri": "https://localhost:8080/",
          "height": 265
        },
        "outputId": "1e0bb72d-f76e-4157-c769-279010501eef"
      },
      "execution_count": 48,
      "outputs": [
        {
          "output_type": "display_data",
          "data": {
            "text/plain": [
              "<Figure size 432x288 with 1 Axes>"
            ],
            "image/png": "[encoded data removed]"
          },
          "metadata": {
            "needs_background": "light"
          }
        }
      ]
    },
    {
      "cell_type": "code",
      "source": [
        "from sklearn import preprocessing\n",
        "\n",
        "importance_df = my_model.get_booster().get_score(importance_type='weight')\n",
        "\n",
        "features_impt_xgb = pd.DataFrame(list(importance_df.items()), columns = ['FEATURE' , 'SCORE'])\n",
        "\n",
        "print(features_impt_xgb.sort_values('SCORE', ascending = False).head(20))"
      ],
      "metadata": {
        "id": "1oaX5qDdN8-N",
        "colab": {
          "base_uri": "https://localhost:8080/"
        },
        "outputId": "22e0f6c4-4ddd-46a4-9c16-51951716f3d6"
      },
      "execution_count": 49,
      "outputs": [
        {
          "output_type": "stream",
          "name": "stdout",
          "text": [
            "  FEATURE  SCORE\n",
            "1      f4    149\n",
            "4      f0    134\n",
            "3      f1    115\n",
            "2      f3     51\n",
            "5      f5     34\n",
            "0      f2     18\n"
          ]
        }
      ]
    },
    {
      "cell_type": "markdown",
      "source": [
        "Using Xgboost \n",
        "*  RPP.SzPanc.cm have max feature score \n",
        "*  Dx.Age have 2nd max\n",
        "*  Dx.SzMetsLargest.cm have 3rd max feature score\n",
        "\n",
        "\n",
        "\n",
        "\n",
        "\n"
      ],
      "metadata": {
        "id": "4d9hgNaorASK"
      }
    }
  ]
}