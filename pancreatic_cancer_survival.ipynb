{
  "nbformat": 4,
  "nbformat_minor": 0,
  "metadata": {
    "colab": {
      "name": "pancreatic_cancer_survival",
      "provenance": [],
      "authorship_tag": "ABX9TyOLcV5KYa2+mjEqjL2YdsRi",
      "include_colab_link": true
    },
    "kernelspec": {
      "name": "python3",
      "display_name": "Python 3"
    },
    "language_info": {
      "name": "python"
    }
  },
  "cells": [
    {
      "cell_type": "markdown",
      "metadata": {
        "id": "view-in-github",
        "colab_type": "text"
      },
      "source": [
        "<a href=\"https://colab.research.google.com/github/Anchaliya75/Pancreas-Cancer/blob/main/pancreatic_cancer_survival.ipynb\" target=\"_parent\"><img src=\"https://colab.research.google.com/assets/colab-badge.svg\" alt=\"Open In Colab\"/></a>"
      ]
    },
    {
      "cell_type": "code",
      "execution_count": 1,
      "metadata": {
        "colab": {
          "base_uri": "https://localhost:8080/"
        },
        "id": "wDZNhObm0qqL",
        "outputId": "36523686-3607-4b6e-86a4-c5b0165385a0"
      },
      "outputs": [
        {
          "output_type": "stream",
          "name": "stdout",
          "text": [
            "Looking in indexes: https://pypi.org/simple, https://us-python.pkg.dev/colab-wheels/public/simple/\n",
            "Collecting lifelines\n",
            "  Downloading lifelines-0.27.0-py3-none-any.whl (349 kB)\n",
            "\u001b[K     |████████████████████████████████| 349 kB 5.3 MB/s \n",
            "\u001b[?25hCollecting formulaic>=0.2.2\n",
            "  Downloading formulaic-0.3.4-py3-none-any.whl (68 kB)\n",
            "\u001b[K     |████████████████████████████████| 68 kB 4.0 MB/s \n",
            "\u001b[?25hRequirement already satisfied: autograd>=1.3 in /usr/local/lib/python3.7/dist-packages (from lifelines) (1.4)\n",
            "Collecting autograd-gamma>=0.3\n",
            "  Downloading autograd-gamma-0.5.0.tar.gz (4.0 kB)\n",
            "Requirement already satisfied: numpy>=1.14.0 in /usr/local/lib/python3.7/dist-packages (from lifelines) (1.21.6)\n",
            "Requirement already satisfied: pandas>=1.0.0 in /usr/local/lib/python3.7/dist-packages (from lifelines) (1.3.5)\n",
            "Requirement already satisfied: scipy>=1.2.0 in /usr/local/lib/python3.7/dist-packages (from lifelines) (1.4.1)\n",
            "Requirement already satisfied: matplotlib>=3.0 in /usr/local/lib/python3.7/dist-packages (from lifelines) (3.2.2)\n",
            "Requirement already satisfied: future>=0.15.2 in /usr/local/lib/python3.7/dist-packages (from autograd>=1.3->lifelines) (0.16.0)\n",
            "Collecting interface-meta<2.0.0,>=1.2.0\n",
            "  Downloading interface_meta-1.3.0-py3-none-any.whl (14 kB)\n",
            "Requirement already satisfied: wrapt>=1.0 in /usr/local/lib/python3.7/dist-packages (from formulaic>=0.2.2->lifelines) (1.14.1)\n",
            "Requirement already satisfied: astor>=0.8 in /usr/local/lib/python3.7/dist-packages (from formulaic>=0.2.2->lifelines) (0.8.1)\n",
            "Collecting scipy>=1.2.0\n",
            "  Downloading scipy-1.7.3-cp37-cp37m-manylinux_2_12_x86_64.manylinux2010_x86_64.whl (38.1 MB)\n",
            "\u001b[K     |████████████████████████████████| 38.1 MB 1.4 MB/s \n",
            "\u001b[?25hRequirement already satisfied: cycler>=0.10 in /usr/local/lib/python3.7/dist-packages (from matplotlib>=3.0->lifelines) (0.11.0)\n",
            "Requirement already satisfied: pyparsing!=2.0.4,!=2.1.2,!=2.1.6,>=2.0.1 in /usr/local/lib/python3.7/dist-packages (from matplotlib>=3.0->lifelines) (3.0.9)\n",
            "Requirement already satisfied: python-dateutil>=2.1 in /usr/local/lib/python3.7/dist-packages (from matplotlib>=3.0->lifelines) (2.8.2)\n",
            "Requirement already satisfied: kiwisolver>=1.0.1 in /usr/local/lib/python3.7/dist-packages (from matplotlib>=3.0->lifelines) (1.4.2)\n",
            "Requirement already satisfied: typing-extensions in /usr/local/lib/python3.7/dist-packages (from kiwisolver>=1.0.1->matplotlib>=3.0->lifelines) (4.2.0)\n",
            "Requirement already satisfied: pytz>=2017.3 in /usr/local/lib/python3.7/dist-packages (from pandas>=1.0.0->lifelines) (2022.1)\n",
            "Requirement already satisfied: six>=1.5 in /usr/local/lib/python3.7/dist-packages (from python-dateutil>=2.1->matplotlib>=3.0->lifelines) (1.15.0)\n",
            "Building wheels for collected packages: autograd-gamma\n",
            "  Building wheel for autograd-gamma (setup.py) ... \u001b[?25l\u001b[?25hdone\n",
            "  Created wheel for autograd-gamma: filename=autograd_gamma-0.5.0-py3-none-any.whl size=4048 sha256=3b156b3d870bcd5692abad786e477a0604419601656a93c0c28e7b90fa87016a\n",
            "  Stored in directory: /root/.cache/pip/wheels/9f/01/ee/1331593abb5725ff7d8c1333aee93a50a1c29d6ddda9665c9f\n",
            "Successfully built autograd-gamma\n",
            "Installing collected packages: scipy, interface-meta, formulaic, autograd-gamma, lifelines\n",
            "  Attempting uninstall: scipy\n",
            "    Found existing installation: scipy 1.4.1\n",
            "    Uninstalling scipy-1.4.1:\n",
            "      Successfully uninstalled scipy-1.4.1\n",
            "\u001b[31mERROR: pip's dependency resolver does not currently take into account all the packages that are installed. This behaviour is the source of the following dependency conflicts.\n",
            "albumentations 0.1.12 requires imgaug<0.2.7,>=0.2.5, but you have imgaug 0.2.9 which is incompatible.\u001b[0m\n",
            "Successfully installed autograd-gamma-0.5.0 formulaic-0.3.4 interface-meta-1.3.0 lifelines-0.27.0 scipy-1.7.3\n"
          ]
        }
      ],
      "source": [
        "!pip install lifelines"
      ]
    },
    {
      "cell_type": "code",
      "source": [
        "# Importing Important Libraries\n",
        "import pandas as pd\n",
        "import numpy as np\n",
        "import matplotlib.pyplot as plt\n",
        "from sklearn.model_selection import train_test_split\n",
        "from sklearn.linear_model import LinearRegression,Ridge,Lasso\n",
        "from sklearn.preprocessing import PolynomialFeatures\n",
        "from sklearn.metrics import r2_score,mean_squared_error\n",
        "from sklearn.preprocessing import PolynomialFeatures\n",
        "import seaborn as sns\n",
        "\n"
      ],
      "metadata": {
        "id": "5YM9XJM01NVV"
      },
      "execution_count": 2,
      "outputs": []
    },
    {
      "cell_type": "code",
      "source": [
        "df =pd.read_csv('/content/mmc1tabS1a-202204281228 (2).csv')"
      ],
      "metadata": {
        "id": "zQNpDqXi1UJr"
      },
      "execution_count": 3,
      "outputs": []
    },
    {
      "cell_type": "code",
      "source": [
        "df.drop(columns=['Case'],axis =0,inplace =True)# Removing the Case Column as it will be of no use"
      ],
      "metadata": {
        "id": "96SehNyB1maC"
      },
      "execution_count": 4,
      "outputs": []
    },
    {
      "cell_type": "code",
      "source": [
        "df.head()  # Looking at data"
      ],
      "metadata": {
        "colab": {
          "base_uri": "https://localhost:8080/",
          "height": 508
        },
        "id": "cmZUfaIY1pOv",
        "outputId": "a7d8c44d-cf62-4c63-d450-6734995a28ab"
      },
      "execution_count": 5,
      "outputs": [
        {
          "output_type": "execute_result",
          "data": {
            "text/plain": [
              "   Dx.Age     Dx.Date  Dx.SzPrim.cm Dx.WasPrimExcis  Dx.SzMetsLargest.cm  \\\n",
              "0      84  05-05-1995           6.0              No                  NaN   \n",
              "1      62  16-12-2002           3.0              No                  2.0   \n",
              "2      67  25-07-2002           2.0              No                  2.0   \n",
              "3      47  02-12-2002           5.0              No                  NaN   \n",
              "4      57  15-01-2003           4.0              No                  1.0   \n",
              "\n",
              "  Dx.SzMetsRange.cm RPP.remark    RPP.Date  RPP.SzPanc.cm  \\\n",
              "0                 x    no data         NaN            NaN   \n",
              "1            01-Feb        Yes  27-01-2003            7.0   \n",
              "2            01-Feb        Yes  12-05-2003            4.0   \n",
              "3                 x         No         NaN            NaN   \n",
              "4             0.3-1         No         NaN            NaN   \n",
              "\n",
              "                                   MR.remark  ...                Aut.Panc  \\\n",
              "0                                    no data  ...  Present (Not Resected)   \n",
              "1  Yes, increase in size and number in liver  ...  Present (Not Resected)   \n",
              "2                                        Yes  ...  Present (Not Resected)   \n",
              "3                                         No  ...  Present (Not Resected)   \n",
              "4                                         No  ...  Present (Not Resected)   \n",
              "\n",
              "   Aut.SzReTumorPanc Aut.SzPrim.cm Aut.MetsBurden  Aut.MeanSzMets.cm  \\\n",
              "0                NaN           6.0        000to10                1.0   \n",
              "1                NaN           4.0    100sto1000s                0.3   \n",
              "2                NaN           4.0       011to100                3.0   \n",
              "3                NaN           5.0        000to10                NaN   \n",
              "4                NaN           5.0    100sto1000s                0.5   \n",
              "\n",
              "  Aut.SzMetsRange.cm Aut.minSzMetsRange.cm  Aut.maxSzMetsRange.cm  timeline  \\\n",
              "0            0.5-2.8                   0.5                    2.8       174   \n",
              "1              0.2-2                   0.2                    2.0       161   \n",
              "2            1.0-5.0                   1.0                    5.0       334   \n",
              "3                NaN                   NaN                    NaN       256   \n",
              "4            0.2-2.0                   0.2                    2.0       229   \n",
              "\n",
              "  result  \n",
              "0      1  \n",
              "1      1  \n",
              "2      1  \n",
              "3      1  \n",
              "4      1  \n",
              "\n",
              "[5 rows x 26 columns]"
            ],
            "text/html": [
              "\n",
              "  <div id=\"df-18f42421-38b8-4d9d-9e1c-ee85c3371110\">\n",
              "    <div class=\"colab-df-container\">\n",
              "      <div>\n",
              "<style scoped>\n",
              "    .dataframe tbody tr th:only-of-type {\n",
              "        vertical-align: middle;\n",
              "    }\n",
              "\n",
              "    .dataframe tbody tr th {\n",
              "        vertical-align: top;\n",
              "    }\n",
              "\n",
              "    .dataframe thead th {\n",
              "        text-align: right;\n",
              "    }\n",
              "</style>\n",
              "<table border=\"1\" class=\"dataframe\">\n",
              "  <thead>\n",
              "    <tr style=\"text-align: right;\">\n",
              "      <th></th>\n",
              "      <th>Dx.Age</th>\n",
              "      <th>Dx.Date</th>\n",
              "      <th>Dx.SzPrim.cm</th>\n",
              "      <th>Dx.WasPrimExcis</th>\n",
              "      <th>Dx.SzMetsLargest.cm</th>\n",
              "      <th>Dx.SzMetsRange.cm</th>\n",
              "      <th>RPP.remark</th>\n",
              "      <th>RPP.Date</th>\n",
              "      <th>RPP.SzPanc.cm</th>\n",
              "      <th>MR.remark</th>\n",
              "      <th>...</th>\n",
              "      <th>Aut.Panc</th>\n",
              "      <th>Aut.SzReTumorPanc</th>\n",
              "      <th>Aut.SzPrim.cm</th>\n",
              "      <th>Aut.MetsBurden</th>\n",
              "      <th>Aut.MeanSzMets.cm</th>\n",
              "      <th>Aut.SzMetsRange.cm</th>\n",
              "      <th>Aut.minSzMetsRange.cm</th>\n",
              "      <th>Aut.maxSzMetsRange.cm</th>\n",
              "      <th>timeline</th>\n",
              "      <th>result</th>\n",
              "    </tr>\n",
              "  </thead>\n",
              "  <tbody>\n",
              "    <tr>\n",
              "      <th>0</th>\n",
              "      <td>84</td>\n",
              "      <td>05-05-1995</td>\n",
              "      <td>6.0</td>\n",
              "      <td>No</td>\n",
              "      <td>NaN</td>\n",
              "      <td>x</td>\n",
              "      <td>no data</td>\n",
              "      <td>NaN</td>\n",
              "      <td>NaN</td>\n",
              "      <td>no data</td>\n",
              "      <td>...</td>\n",
              "      <td>Present (Not Resected)</td>\n",
              "      <td>NaN</td>\n",
              "      <td>6.0</td>\n",
              "      <td>000to10</td>\n",
              "      <td>1.0</td>\n",
              "      <td>0.5-2.8</td>\n",
              "      <td>0.5</td>\n",
              "      <td>2.8</td>\n",
              "      <td>174</td>\n",
              "      <td>1</td>\n",
              "    </tr>\n",
              "    <tr>\n",
              "      <th>1</th>\n",
              "      <td>62</td>\n",
              "      <td>16-12-2002</td>\n",
              "      <td>3.0</td>\n",
              "      <td>No</td>\n",
              "      <td>2.0</td>\n",
              "      <td>01-Feb</td>\n",
              "      <td>Yes</td>\n",
              "      <td>27-01-2003</td>\n",
              "      <td>7.0</td>\n",
              "      <td>Yes, increase in size and number in liver</td>\n",
              "      <td>...</td>\n",
              "      <td>Present (Not Resected)</td>\n",
              "      <td>NaN</td>\n",
              "      <td>4.0</td>\n",
              "      <td>100sto1000s</td>\n",
              "      <td>0.3</td>\n",
              "      <td>0.2-2</td>\n",
              "      <td>0.2</td>\n",
              "      <td>2.0</td>\n",
              "      <td>161</td>\n",
              "      <td>1</td>\n",
              "    </tr>\n",
              "    <tr>\n",
              "      <th>2</th>\n",
              "      <td>67</td>\n",
              "      <td>25-07-2002</td>\n",
              "      <td>2.0</td>\n",
              "      <td>No</td>\n",
              "      <td>2.0</td>\n",
              "      <td>01-Feb</td>\n",
              "      <td>Yes</td>\n",
              "      <td>12-05-2003</td>\n",
              "      <td>4.0</td>\n",
              "      <td>Yes</td>\n",
              "      <td>...</td>\n",
              "      <td>Present (Not Resected)</td>\n",
              "      <td>NaN</td>\n",
              "      <td>4.0</td>\n",
              "      <td>011to100</td>\n",
              "      <td>3.0</td>\n",
              "      <td>1.0-5.0</td>\n",
              "      <td>1.0</td>\n",
              "      <td>5.0</td>\n",
              "      <td>334</td>\n",
              "      <td>1</td>\n",
              "    </tr>\n",
              "    <tr>\n",
              "      <th>3</th>\n",
              "      <td>47</td>\n",
              "      <td>02-12-2002</td>\n",
              "      <td>5.0</td>\n",
              "      <td>No</td>\n",
              "      <td>NaN</td>\n",
              "      <td>x</td>\n",
              "      <td>No</td>\n",
              "      <td>NaN</td>\n",
              "      <td>NaN</td>\n",
              "      <td>No</td>\n",
              "      <td>...</td>\n",
              "      <td>Present (Not Resected)</td>\n",
              "      <td>NaN</td>\n",
              "      <td>5.0</td>\n",
              "      <td>000to10</td>\n",
              "      <td>NaN</td>\n",
              "      <td>NaN</td>\n",
              "      <td>NaN</td>\n",
              "      <td>NaN</td>\n",
              "      <td>256</td>\n",
              "      <td>1</td>\n",
              "    </tr>\n",
              "    <tr>\n",
              "      <th>4</th>\n",
              "      <td>57</td>\n",
              "      <td>15-01-2003</td>\n",
              "      <td>4.0</td>\n",
              "      <td>No</td>\n",
              "      <td>1.0</td>\n",
              "      <td>0.3-1</td>\n",
              "      <td>No</td>\n",
              "      <td>NaN</td>\n",
              "      <td>NaN</td>\n",
              "      <td>No</td>\n",
              "      <td>...</td>\n",
              "      <td>Present (Not Resected)</td>\n",
              "      <td>NaN</td>\n",
              "      <td>5.0</td>\n",
              "      <td>100sto1000s</td>\n",
              "      <td>0.5</td>\n",
              "      <td>0.2-2.0</td>\n",
              "      <td>0.2</td>\n",
              "      <td>2.0</td>\n",
              "      <td>229</td>\n",
              "      <td>1</td>\n",
              "    </tr>\n",
              "  </tbody>\n",
              "</table>\n",
              "<p>5 rows × 26 columns</p>\n",
              "</div>\n",
              "      <button class=\"colab-df-convert\" onclick=\"convertToInteractive('df-18f42421-38b8-4d9d-9e1c-ee85c3371110')\"\n",
              "              title=\"Convert this dataframe to an interactive table.\"\n",
              "              style=\"display:none;\">\n",
              "        \n",
              "  <svg xmlns=\"http://www.w3.org/2000/svg\" height=\"24px\"viewBox=\"0 0 24 24\"\n",
              "       width=\"24px\">\n",
              "    <path d=\"M0 0h24v24H0V0z\" fill=\"none\"/>\n",
              "    <path d=\"M18.56 5.44l.94 2.06.94-2.06 2.06-.94-2.06-.94-.94-2.06-.94 2.06-2.06.94zm-11 1L8.5 8.5l.94-2.06 2.06-.94-2.06-.94L8.5 2.5l-.94 2.06-2.06.94zm10 10l.94 2.06.94-2.06 2.06-.94-2.06-.94-.94-2.06-.94 2.06-2.06.94z\"/><path d=\"M17.41 7.96l-1.37-1.37c-.4-.4-.92-.59-1.43-.59-.52 0-1.04.2-1.43.59L10.3 9.45l-7.72 7.72c-.78.78-.78 2.05 0 2.83L4 21.41c.39.39.9.59 1.41.59.51 0 1.02-.2 1.41-.59l7.78-7.78 2.81-2.81c.8-.78.8-2.07 0-2.86zM5.41 20L4 18.59l7.72-7.72 1.47 1.35L5.41 20z\"/>\n",
              "  </svg>\n",
              "      </button>\n",
              "      \n",
              "  <style>\n",
              "    .colab-df-container {\n",
              "      display:flex;\n",
              "      flex-wrap:wrap;\n",
              "      gap: 12px;\n",
              "    }\n",
              "\n",
              "    .colab-df-convert {\n",
              "      background-color: #E8F0FE;\n",
              "      border: none;\n",
              "      border-radius: 50%;\n",
              "      cursor: pointer;\n",
              "      display: none;\n",
              "      fill: #1967D2;\n",
              "      height: 32px;\n",
              "      padding: 0 0 0 0;\n",
              "      width: 32px;\n",
              "    }\n",
              "\n",
              "    .colab-df-convert:hover {\n",
              "      background-color: #E2EBFA;\n",
              "      box-shadow: 0px 1px 2px rgba(60, 64, 67, 0.3), 0px 1px 3px 1px rgba(60, 64, 67, 0.15);\n",
              "      fill: #174EA6;\n",
              "    }\n",
              "\n",
              "    [theme=dark] .colab-df-convert {\n",
              "      background-color: #3B4455;\n",
              "      fill: #D2E3FC;\n",
              "    }\n",
              "\n",
              "    [theme=dark] .colab-df-convert:hover {\n",
              "      background-color: #434B5C;\n",
              "      box-shadow: 0px 1px 3px 1px rgba(0, 0, 0, 0.15);\n",
              "      filter: drop-shadow(0px 1px 2px rgba(0, 0, 0, 0.3));\n",
              "      fill: #FFFFFF;\n",
              "    }\n",
              "  </style>\n",
              "\n",
              "      <script>\n",
              "        const buttonEl =\n",
              "          document.querySelector('#df-18f42421-38b8-4d9d-9e1c-ee85c3371110 button.colab-df-convert');\n",
              "        buttonEl.style.display =\n",
              "          google.colab.kernel.accessAllowed ? 'block' : 'none';\n",
              "\n",
              "        async function convertToInteractive(key) {\n",
              "          const element = document.querySelector('#df-18f42421-38b8-4d9d-9e1c-ee85c3371110');\n",
              "          const dataTable =\n",
              "            await google.colab.kernel.invokeFunction('convertToInteractive',\n",
              "                                                     [key], {});\n",
              "          if (!dataTable) return;\n",
              "\n",
              "          const docLinkHtml = 'Like what you see? Visit the ' +\n",
              "            '<a target=\"_blank\" href=https://colab.research.google.com/notebooks/data_table.ipynb>data table notebook</a>'\n",
              "            + ' to learn more about interactive tables.';\n",
              "          element.innerHTML = '';\n",
              "          dataTable['output_type'] = 'display_data';\n",
              "          await google.colab.output.renderOutput(dataTable, element);\n",
              "          const docLink = document.createElement('div');\n",
              "          docLink.innerHTML = docLinkHtml;\n",
              "          element.appendChild(docLink);\n",
              "        }\n",
              "      </script>\n",
              "    </div>\n",
              "  </div>\n",
              "  "
            ]
          },
          "metadata": {},
          "execution_count": 5
        }
      ]
    },
    {
      "cell_type": "code",
      "source": [
        "df.info()"
      ],
      "metadata": {
        "colab": {
          "base_uri": "https://localhost:8080/"
        },
        "id": "bAccp4uj1sEz",
        "outputId": "4b8a9580-1dc1-40be-9edc-22418a59d262"
      },
      "execution_count": 6,
      "outputs": [
        {
          "output_type": "stream",
          "name": "stdout",
          "text": [
            "<class 'pandas.core.frame.DataFrame'>\n",
            "RangeIndex: 101 entries, 0 to 100\n",
            "Data columns (total 26 columns):\n",
            " #   Column                 Non-Null Count  Dtype  \n",
            "---  ------                 --------------  -----  \n",
            " 0   Dx.Age                 101 non-null    int64  \n",
            " 1   Dx.Date                101 non-null    object \n",
            " 2   Dx.SzPrim.cm           101 non-null    float64\n",
            " 3   Dx.WasPrimExcis        101 non-null    object \n",
            " 4   Dx.SzMetsLargest.cm    36 non-null     float64\n",
            " 5   Dx.SzMetsRange.cm      100 non-null    object \n",
            " 6   RPP.remark             101 non-null    object \n",
            " 7   RPP.Date               44 non-null     object \n",
            " 8   RPP.SzPanc.cm          40 non-null     float64\n",
            " 9   MR.remark              97 non-null     object \n",
            " 10  MR.Date                44 non-null     object \n",
            " 11  MR.SzMetsLargest.cm    41 non-null     float64\n",
            " 12  MP.remark              97 non-null     object \n",
            " 13  MP.Date                26 non-null     object \n",
            " 14  MP.SzMetsLargest.cm    26 non-null     float64\n",
            " 15  Aut.DateDeath          101 non-null    object \n",
            " 16  Aut.Panc               101 non-null    object \n",
            " 17  Aut.SzReTumorPanc      20 non-null     float64\n",
            " 18  Aut.SzPrim.cm          75 non-null     float64\n",
            " 19  Aut.MetsBurden         101 non-null    object \n",
            " 20  Aut.MeanSzMets.cm      84 non-null     float64\n",
            " 21  Aut.SzMetsRange.cm     83 non-null     object \n",
            " 22  Aut.minSzMetsRange.cm  83 non-null     float64\n",
            " 23  Aut.maxSzMetsRange.cm  83 non-null     float64\n",
            " 24  timeline               101 non-null    int64  \n",
            " 25  result                 101 non-null    int64  \n",
            "dtypes: float64(10), int64(3), object(13)\n",
            "memory usage: 20.6+ KB\n"
          ]
        }
      ]
    },
    {
      "cell_type": "markdown",
      "source": [
        "\n",
        "\n",
        "*   More than 50 % missing value are there in Recurrence(Size,Date) and Metastatic Sub column(progression,remark,Date)\n",
        "\n",
        "\n"
      ],
      "metadata": {
        "id": "0rSUeO8t12pY"
      }
    },
    {
      "cell_type": "code",
      "source": [
        "df.describe()"
      ],
      "metadata": {
        "colab": {
          "base_uri": "https://localhost:8080/",
          "height": 364
        },
        "id": "mcUGb09117tY",
        "outputId": "1d9d816f-ea94-42a3-99f9-0715ac1b45cd"
      },
      "execution_count": 7,
      "outputs": [
        {
          "output_type": "execute_result",
          "data": {
            "text/plain": [
              "           Dx.Age  Dx.SzPrim.cm  Dx.SzMetsLargest.cm  RPP.SzPanc.cm  \\\n",
              "count  101.000000    101.000000            36.000000      40.000000   \n",
              "mean    63.554455      3.736634             2.458333       3.862500   \n",
              "std     11.398662      1.420333             2.361280       1.923897   \n",
              "min     36.000000      1.500000             0.200000       1.000000   \n",
              "25%     55.000000      2.800000             1.000000       2.525000   \n",
              "50%     64.000000      3.500000             2.000000       3.400000   \n",
              "75%     71.000000      4.200000             3.100000       4.775000   \n",
              "max     90.000000      8.000000            13.600000      11.000000   \n",
              "\n",
              "       MR.SzMetsLargest.cm  MP.SzMetsLargest.cm  Aut.SzReTumorPanc  \\\n",
              "count            41.000000            26.000000          20.000000   \n",
              "mean              1.826098             3.726923           3.520000   \n",
              "std               1.913642             3.345511           1.972869   \n",
              "min               0.300000             0.800000           0.000000   \n",
              "25%               0.800000             1.625000           2.300000   \n",
              "50%               1.000000             2.850000           3.500000   \n",
              "75%               2.000000             4.550000           5.000000   \n",
              "max               9.500000            14.000000           7.000000   \n",
              "\n",
              "       Aut.SzPrim.cm  Aut.MeanSzMets.cm  Aut.minSzMetsRange.cm  \\\n",
              "count      75.000000          84.000000              83.000000   \n",
              "mean        5.309333           1.332143               0.559036   \n",
              "std         2.416843           0.947433               0.483644   \n",
              "min         0.000000           0.200000               0.100000   \n",
              "25%         4.000000           0.775000               0.200000   \n",
              "50%         5.000000           1.000000               0.500000   \n",
              "75%         6.000000           1.500000               0.600000   \n",
              "max        15.000000           6.000000               3.500000   \n",
              "\n",
              "       Aut.maxSzMetsRange.cm     timeline  result  \n",
              "count              83.000000   101.000000   101.0  \n",
              "mean                3.236145   503.287129     1.0  \n",
              "std                 2.466931   462.897707     0.0  \n",
              "min                 0.500000    17.000000     1.0  \n",
              "25%                 2.000000   186.000000     1.0  \n",
              "50%                 2.500000   347.000000     1.0  \n",
              "75%                 4.000000   741.000000     1.0  \n",
              "max                14.000000  2841.000000     1.0  "
            ],
            "text/html": [
              "\n",
              "  <div id=\"df-3027d0f6-bea5-404f-a5a6-d6503c9b7a9b\">\n",
              "    <div class=\"colab-df-container\">\n",
              "      <div>\n",
              "<style scoped>\n",
              "    .dataframe tbody tr th:only-of-type {\n",
              "        vertical-align: middle;\n",
              "    }\n",
              "\n",
              "    .dataframe tbody tr th {\n",
              "        vertical-align: top;\n",
              "    }\n",
              "\n",
              "    .dataframe thead th {\n",
              "        text-align: right;\n",
              "    }\n",
              "</style>\n",
              "<table border=\"1\" class=\"dataframe\">\n",
              "  <thead>\n",
              "    <tr style=\"text-align: right;\">\n",
              "      <th></th>\n",
              "      <th>Dx.Age</th>\n",
              "      <th>Dx.SzPrim.cm</th>\n",
              "      <th>Dx.SzMetsLargest.cm</th>\n",
              "      <th>RPP.SzPanc.cm</th>\n",
              "      <th>MR.SzMetsLargest.cm</th>\n",
              "      <th>MP.SzMetsLargest.cm</th>\n",
              "      <th>Aut.SzReTumorPanc</th>\n",
              "      <th>Aut.SzPrim.cm</th>\n",
              "      <th>Aut.MeanSzMets.cm</th>\n",
              "      <th>Aut.minSzMetsRange.cm</th>\n",
              "      <th>Aut.maxSzMetsRange.cm</th>\n",
              "      <th>timeline</th>\n",
              "      <th>result</th>\n",
              "    </tr>\n",
              "  </thead>\n",
              "  <tbody>\n",
              "    <tr>\n",
              "      <th>count</th>\n",
              "      <td>101.000000</td>\n",
              "      <td>101.000000</td>\n",
              "      <td>36.000000</td>\n",
              "      <td>40.000000</td>\n",
              "      <td>41.000000</td>\n",
              "      <td>26.000000</td>\n",
              "      <td>20.000000</td>\n",
              "      <td>75.000000</td>\n",
              "      <td>84.000000</td>\n",
              "      <td>83.000000</td>\n",
              "      <td>83.000000</td>\n",
              "      <td>101.000000</td>\n",
              "      <td>101.0</td>\n",
              "    </tr>\n",
              "    <tr>\n",
              "      <th>mean</th>\n",
              "      <td>63.554455</td>\n",
              "      <td>3.736634</td>\n",
              "      <td>2.458333</td>\n",
              "      <td>3.862500</td>\n",
              "      <td>1.826098</td>\n",
              "      <td>3.726923</td>\n",
              "      <td>3.520000</td>\n",
              "      <td>5.309333</td>\n",
              "      <td>1.332143</td>\n",
              "      <td>0.559036</td>\n",
              "      <td>3.236145</td>\n",
              "      <td>503.287129</td>\n",
              "      <td>1.0</td>\n",
              "    </tr>\n",
              "    <tr>\n",
              "      <th>std</th>\n",
              "      <td>11.398662</td>\n",
              "      <td>1.420333</td>\n",
              "      <td>2.361280</td>\n",
              "      <td>1.923897</td>\n",
              "      <td>1.913642</td>\n",
              "      <td>3.345511</td>\n",
              "      <td>1.972869</td>\n",
              "      <td>2.416843</td>\n",
              "      <td>0.947433</td>\n",
              "      <td>0.483644</td>\n",
              "      <td>2.466931</td>\n",
              "      <td>462.897707</td>\n",
              "      <td>0.0</td>\n",
              "    </tr>\n",
              "    <tr>\n",
              "      <th>min</th>\n",
              "      <td>36.000000</td>\n",
              "      <td>1.500000</td>\n",
              "      <td>0.200000</td>\n",
              "      <td>1.000000</td>\n",
              "      <td>0.300000</td>\n",
              "      <td>0.800000</td>\n",
              "      <td>0.000000</td>\n",
              "      <td>0.000000</td>\n",
              "      <td>0.200000</td>\n",
              "      <td>0.100000</td>\n",
              "      <td>0.500000</td>\n",
              "      <td>17.000000</td>\n",
              "      <td>1.0</td>\n",
              "    </tr>\n",
              "    <tr>\n",
              "      <th>25%</th>\n",
              "      <td>55.000000</td>\n",
              "      <td>2.800000</td>\n",
              "      <td>1.000000</td>\n",
              "      <td>2.525000</td>\n",
              "      <td>0.800000</td>\n",
              "      <td>1.625000</td>\n",
              "      <td>2.300000</td>\n",
              "      <td>4.000000</td>\n",
              "      <td>0.775000</td>\n",
              "      <td>0.200000</td>\n",
              "      <td>2.000000</td>\n",
              "      <td>186.000000</td>\n",
              "      <td>1.0</td>\n",
              "    </tr>\n",
              "    <tr>\n",
              "      <th>50%</th>\n",
              "      <td>64.000000</td>\n",
              "      <td>3.500000</td>\n",
              "      <td>2.000000</td>\n",
              "      <td>3.400000</td>\n",
              "      <td>1.000000</td>\n",
              "      <td>2.850000</td>\n",
              "      <td>3.500000</td>\n",
              "      <td>5.000000</td>\n",
              "      <td>1.000000</td>\n",
              "      <td>0.500000</td>\n",
              "      <td>2.500000</td>\n",
              "      <td>347.000000</td>\n",
              "      <td>1.0</td>\n",
              "    </tr>\n",
              "    <tr>\n",
              "      <th>75%</th>\n",
              "      <td>71.000000</td>\n",
              "      <td>4.200000</td>\n",
              "      <td>3.100000</td>\n",
              "      <td>4.775000</td>\n",
              "      <td>2.000000</td>\n",
              "      <td>4.550000</td>\n",
              "      <td>5.000000</td>\n",
              "      <td>6.000000</td>\n",
              "      <td>1.500000</td>\n",
              "      <td>0.600000</td>\n",
              "      <td>4.000000</td>\n",
              "      <td>741.000000</td>\n",
              "      <td>1.0</td>\n",
              "    </tr>\n",
              "    <tr>\n",
              "      <th>max</th>\n",
              "      <td>90.000000</td>\n",
              "      <td>8.000000</td>\n",
              "      <td>13.600000</td>\n",
              "      <td>11.000000</td>\n",
              "      <td>9.500000</td>\n",
              "      <td>14.000000</td>\n",
              "      <td>7.000000</td>\n",
              "      <td>15.000000</td>\n",
              "      <td>6.000000</td>\n",
              "      <td>3.500000</td>\n",
              "      <td>14.000000</td>\n",
              "      <td>2841.000000</td>\n",
              "      <td>1.0</td>\n",
              "    </tr>\n",
              "  </tbody>\n",
              "</table>\n",
              "</div>\n",
              "      <button class=\"colab-df-convert\" onclick=\"convertToInteractive('df-3027d0f6-bea5-404f-a5a6-d6503c9b7a9b')\"\n",
              "              title=\"Convert this dataframe to an interactive table.\"\n",
              "              style=\"display:none;\">\n",
              "        \n",
              "  <svg xmlns=\"http://www.w3.org/2000/svg\" height=\"24px\"viewBox=\"0 0 24 24\"\n",
              "       width=\"24px\">\n",
              "    <path d=\"M0 0h24v24H0V0z\" fill=\"none\"/>\n",
              "    <path d=\"M18.56 5.44l.94 2.06.94-2.06 2.06-.94-2.06-.94-.94-2.06-.94 2.06-2.06.94zm-11 1L8.5 8.5l.94-2.06 2.06-.94-2.06-.94L8.5 2.5l-.94 2.06-2.06.94zm10 10l.94 2.06.94-2.06 2.06-.94-2.06-.94-.94-2.06-.94 2.06-2.06.94z\"/><path d=\"M17.41 7.96l-1.37-1.37c-.4-.4-.92-.59-1.43-.59-.52 0-1.04.2-1.43.59L10.3 9.45l-7.72 7.72c-.78.78-.78 2.05 0 2.83L4 21.41c.39.39.9.59 1.41.59.51 0 1.02-.2 1.41-.59l7.78-7.78 2.81-2.81c.8-.78.8-2.07 0-2.86zM5.41 20L4 18.59l7.72-7.72 1.47 1.35L5.41 20z\"/>\n",
              "  </svg>\n",
              "      </button>\n",
              "      \n",
              "  <style>\n",
              "    .colab-df-container {\n",
              "      display:flex;\n",
              "      flex-wrap:wrap;\n",
              "      gap: 12px;\n",
              "    }\n",
              "\n",
              "    .colab-df-convert {\n",
              "      background-color: #E8F0FE;\n",
              "      border: none;\n",
              "      border-radius: 50%;\n",
              "      cursor: pointer;\n",
              "      display: none;\n",
              "      fill: #1967D2;\n",
              "      height: 32px;\n",
              "      padding: 0 0 0 0;\n",
              "      width: 32px;\n",
              "    }\n",
              "\n",
              "    .colab-df-convert:hover {\n",
              "      background-color: #E2EBFA;\n",
              "      box-shadow: 0px 1px 2px rgba(60, 64, 67, 0.3), 0px 1px 3px 1px rgba(60, 64, 67, 0.15);\n",
              "      fill: #174EA6;\n",
              "    }\n",
              "\n",
              "    [theme=dark] .colab-df-convert {\n",
              "      background-color: #3B4455;\n",
              "      fill: #D2E3FC;\n",
              "    }\n",
              "\n",
              "    [theme=dark] .colab-df-convert:hover {\n",
              "      background-color: #434B5C;\n",
              "      box-shadow: 0px 1px 3px 1px rgba(0, 0, 0, 0.15);\n",
              "      filter: drop-shadow(0px 1px 2px rgba(0, 0, 0, 0.3));\n",
              "      fill: #FFFFFF;\n",
              "    }\n",
              "  </style>\n",
              "\n",
              "      <script>\n",
              "        const buttonEl =\n",
              "          document.querySelector('#df-3027d0f6-bea5-404f-a5a6-d6503c9b7a9b button.colab-df-convert');\n",
              "        buttonEl.style.display =\n",
              "          google.colab.kernel.accessAllowed ? 'block' : 'none';\n",
              "\n",
              "        async function convertToInteractive(key) {\n",
              "          const element = document.querySelector('#df-3027d0f6-bea5-404f-a5a6-d6503c9b7a9b');\n",
              "          const dataTable =\n",
              "            await google.colab.kernel.invokeFunction('convertToInteractive',\n",
              "                                                     [key], {});\n",
              "          if (!dataTable) return;\n",
              "\n",
              "          const docLinkHtml = 'Like what you see? Visit the ' +\n",
              "            '<a target=\"_blank\" href=https://colab.research.google.com/notebooks/data_table.ipynb>data table notebook</a>'\n",
              "            + ' to learn more about interactive tables.';\n",
              "          element.innerHTML = '';\n",
              "          dataTable['output_type'] = 'display_data';\n",
              "          await google.colab.output.renderOutput(dataTable, element);\n",
              "          const docLink = document.createElement('div');\n",
              "          docLink.innerHTML = docLinkHtml;\n",
              "          element.appendChild(docLink);\n",
              "        }\n",
              "      </script>\n",
              "    </div>\n",
              "  </div>\n",
              "  "
            ]
          },
          "metadata": {},
          "execution_count": 7
        }
      ]
    },
    {
      "cell_type": "markdown",
      "source": [
        " \n",
        "\n",
        "*   Median Age of Patient is 60 year in dataset\n",
        "*   Min Tumor size at Diagonistic is 1.5 and max is 8 cm,median size is 3.5cm\n",
        "*  Size of largest Metastatic tumor is 36cm and median is 2.0cm\n",
        "* Median Survival(Difference between Diagonistic and Autopsy Date is 347 days\n",
        "\n"
      ],
      "metadata": {
        "id": "caP3gfn47qmb"
      }
    },
    {
      "cell_type": "code",
      "source": [
        "df['Dx.Age']=(df['Dx.Age']//10)*10 # Converting Age of Patients to 10s 20s 30s and so on for better analysis"
      ],
      "metadata": {
        "id": "eg9i1dLV7Hk2"
      },
      "execution_count": 8,
      "outputs": []
    },
    {
      "cell_type": "code",
      "source": [
        "df['Dx.WasPrimExcis']=df['Dx.WasPrimExcis'].map({\"No\":0,\"Yes\":1},na_action='ignore')# Converting datatype from object to\n",
        "#int"
      ],
      "metadata": {
        "id": "7gGInlqH7jvJ"
      },
      "execution_count": 10,
      "outputs": []
    },
    {
      "cell_type": "code",
      "source": [
        "df['Dx.Age'].value_counts().plot.bar() # x-axis represents age(10s,20's,30's and so on) y-axis represents count\n",
        "plt.show()"
      ],
      "metadata": {
        "colab": {
          "base_uri": "https://localhost:8080/",
          "height": 268
        },
        "id": "Z5ekWCSU7emU",
        "outputId": "3fdaa5ac-97d6-49e0-815b-e22f35487afa"
      },
      "execution_count": 9,
      "outputs": [
        {
          "output_type": "display_data",
          "data": {
            "text/plain": [
              "<Figure size 432x288 with 1 Axes>"
            ],
            "image/png": "[encoded data removed]"
          },
          "metadata": {
            "needs_background": "light"
          }
        }
      ]
    },
    {
      "cell_type": "code",
      "source": [
        "df['Dx.SzPrim.cm'].value_counts().plot.bar() # x -axis represents tumor size in cm and y axis represents count"
      ],
      "metadata": {
        "colab": {
          "base_uri": "https://localhost:8080/",
          "height": 288
        },
        "id": "oMHrCG4P7yJT",
        "outputId": "71cc02d0-9203-4b28-eb78-edfdb4dc706b"
      },
      "execution_count": 11,
      "outputs": [
        {
          "output_type": "execute_result",
          "data": {
            "text/plain": [
              "<matplotlib.axes._subplots.AxesSubplot at 0x7f5a93d4c1d0>"
            ]
          },
          "metadata": {},
          "execution_count": 11
        },
        {
          "output_type": "display_data",
          "data": {
            "text/plain": [
              "<Figure size 432x288 with 1 Axes>"
            ],
            "image/png": "[encoded data removed]"
          },
          "metadata": {
            "needs_background": "light"
          }
        }
      ]
    },
    {
      "cell_type": "code",
      "source": [
        "df['Dx.WasPrimExcis'].value_counts().plot.bar()# x-axis represents two things(0:-> Primary tumor is not surgically removed)\n",
        "#Primary tumor is surgically removed"
      ],
      "metadata": {
        "colab": {
          "base_uri": "https://localhost:8080/",
          "height": 279
        },
        "id": "8XXs_UDd71W4",
        "outputId": "e1ec3867-c2ad-406c-f197-48d847cc6301"
      },
      "execution_count": 12,
      "outputs": [
        {
          "output_type": "execute_result",
          "data": {
            "text/plain": [
              "<matplotlib.axes._subplots.AxesSubplot at 0x7f5a93c63bd0>"
            ]
          },
          "metadata": {},
          "execution_count": 12
        },
        {
          "output_type": "display_data",
          "data": {
            "text/plain": [
              "<Figure size 432x288 with 1 Axes>"
            ],
            "image/png": "[encoded data removed]"
          },
          "metadata": {
            "needs_background": "light"
          }
        }
      ]
    },
    {
      "cell_type": "code",
      "source": [
        "plt.figure(figsize=(12,10))\n",
        "p=sns.heatmap(df.corr(),annot=True,cmap=\"RdYlGn\")#Correlation with features and labels"
      ],
      "metadata": {
        "colab": {
          "base_uri": "https://localhost:8080/",
          "height": 713
        },
        "id": "vO6I7Nno79ZX",
        "outputId": "5ee733f3-bdf9-4ad3-981e-de2dbb3c46f5"
      },
      "execution_count": 13,
      "outputs": [
        {
          "output_type": "display_data",
          "data": {
            "text/plain": [
              "<Figure size 864x720 with 2 Axes>"
            ],
            "image/png": "[encoded data removed]"
          },
          "metadata": {
            "needs_background": "light"
          }
        }
      ]
    },
    {
      "cell_type": "markdown",
      "source": [
        "\n",
        "\n",
        "*  Timeline(label) has correlation of 0.39 with DxwasPrimExcis (Rest also have high correlation but they are iether from autopsy or with those columns which have high missing values Autopsy columns have less use for us right now as we want to predict survival\n",
        "\n"
      ],
      "metadata": {
        "id": "hicJWvFI8ALJ"
      }
    },
    {
      "cell_type": "code",
      "source": [
        "df_survival=df['timeline']"
      ],
      "metadata": {
        "id": "etW6d7yd8DnL"
      },
      "execution_count": 14,
      "outputs": []
    },
    {
      "cell_type": "code",
      "source": [
        "plt.hist(df_survival,bins=50)\n",
        "plt.show()\n",
        "# heavily right skewed Data \n",
        "# Why is this a Problem Outliers have a lot of impact in Regression model accuracy \n",
        "# ==================== what does histogram represents?\n",
        "#In a histogram, the total range of data set (i.e from minimum value to maximum value) is divided into 8 to 15 equal parts. \n",
        "#These equal parts are known as bins or class intervals.\n",
        "#======================Histogram xand y value representation===========\n",
        "#Each and every observation (or value) in the data set is placed in the appropriate bin. \n",
        "#The number of observations occupying a given bin, becomes the frequency of that bin."
      ],
      "metadata": {
        "colab": {
          "base_uri": "https://localhost:8080/",
          "height": 265
        },
        "id": "IaaivDWf8HGZ",
        "outputId": "3767aa6c-8f53-4dc8-aa36-b2ac70cb5258"
      },
      "execution_count": 15,
      "outputs": [
        {
          "output_type": "display_data",
          "data": {
            "text/plain": [
              "<Figure size 432x288 with 1 Axes>"
            ],
            "image/png": "[encoded data removed]"
          },
          "metadata": {
            "needs_background": "light"
          }
        }
      ]
    },
    {
      "cell_type": "code",
      "source": [
        "from lifelines import KaplanMeierFitter\n"
      ],
      "metadata": {
        "id": "6QElgEH884wr"
      },
      "execution_count": 17,
      "outputs": []
    },
    {
      "cell_type": "code",
      "source": [
        "fig = plt.figure(figsize=(16,9))\n",
        "kmf = KaplanMeierFitter()\n",
        "kmf.fit(durations = df['timeline'], event_observed = df['result'])\n",
        "kmf.plot_survival_function()\n",
        "plt.ylabel('probability of survival')\n",
        "plt.xlabel('Days')\n",
        "plt.plot(figsize=(16,9))\n",
        "plt.xticks(np.arange(min(df['timeline']), max(df['timeline']), 365))\n",
        "plt.yticks(np.arange(0.0,1.0, 0.025))"
      ],
      "metadata": {
        "colab": {
          "base_uri": "https://localhost:8080/",
          "height": 1000
        },
        "id": "hPAV6gA_8KGX",
        "outputId": "d90ea488-f829-41f7-f61a-0b040a39f698"
      },
      "execution_count": 18,
      "outputs": [
        {
          "output_type": "execute_result",
          "data": {
            "text/plain": [
              "([<matplotlib.axis.YTick at 0x7f5a8f597910>,\n",
              "  <matplotlib.axis.YTick at 0x7f5a8f597150>,\n",
              "  <matplotlib.axis.YTick at 0x7f5a8f575490>,\n",
              "  <matplotlib.axis.YTick at 0x7f5a8f54d3d0>,\n",
              "  <matplotlib.axis.YTick at 0x7f5a8f54de90>,\n",
              "  <matplotlib.axis.YTick at 0x7f5a8f54df90>,\n",
              "  <matplotlib.axis.YTick at 0x7f5a8f546290>,\n",
              "  <matplotlib.axis.YTick at 0x7f5a8f53dad0>,\n",
              "  <matplotlib.axis.YTick at 0x7f5a8f556690>,\n",
              "  <matplotlib.axis.YTick at 0x7f5a8f556bd0>,\n",
              "  <matplotlib.axis.YTick at 0x7f5a8f556790>,\n",
              "  <matplotlib.axis.YTick at 0x7f5a8f55e650>,\n",
              "  <matplotlib.axis.YTick at 0x7f5a8f55eb90>,\n",
              "  <matplotlib.axis.YTick at 0x7f5a8f55e750>,\n",
              "  <matplotlib.axis.YTick at 0x7f5a8f55e5d0>,\n",
              "  <matplotlib.axis.YTick at 0x7f5a8f5563d0>,\n",
              "  <matplotlib.axis.YTick at 0x7f5a8f556050>,\n",
              "  <matplotlib.axis.YTick at 0x7f5a8f4e58d0>,\n",
              "  <matplotlib.axis.YTick at 0x7f5a8f4e5dd0>,\n",
              "  <matplotlib.axis.YTick at 0x7f5a8f4ee350>,\n",
              "  <matplotlib.axis.YTick at 0x7f5a8f4ee890>,\n",
              "  <matplotlib.axis.YTick at 0x7f5a8f4eedd0>,\n",
              "  <matplotlib.axis.YTick at 0x7f5a8f4f6350>,\n",
              "  <matplotlib.axis.YTick at 0x7f5a8f4f6890>,\n",
              "  <matplotlib.axis.YTick at 0x7f5a8f4f6dd0>,\n",
              "  <matplotlib.axis.YTick at 0x7f5a8f4f6fd0>,\n",
              "  <matplotlib.axis.YTick at 0x7f5a8f4eed10>,\n",
              "  <matplotlib.axis.YTick at 0x7f5a8f4e57d0>,\n",
              "  <matplotlib.axis.YTick at 0x7f5a8f4ff590>,\n",
              "  <matplotlib.axis.YTick at 0x7f5a8f4ffad0>,\n",
              "  <matplotlib.axis.YTick at 0x7f5a8f4ff110>,\n",
              "  <matplotlib.axis.YTick at 0x7f5a8f506590>,\n",
              "  <matplotlib.axis.YTick at 0x7f5a8f506b50>,\n",
              "  <matplotlib.axis.YTick at 0x7f5a8f50d1d0>,\n",
              "  <matplotlib.axis.YTick at 0x7f5a8f506650>,\n",
              "  <matplotlib.axis.YTick at 0x7f5a8f506190>,\n",
              "  <matplotlib.axis.YTick at 0x7f5a8f4e55d0>,\n",
              "  <matplotlib.axis.YTick at 0x7f5a8f50d250>,\n",
              "  <matplotlib.axis.YTick at 0x7f5a8f50dbd0>,\n",
              "  <matplotlib.axis.YTick at 0x7f5a8f514290>],\n",
              " <a list of 40 Text major ticklabel objects>)"
            ]
          },
          "metadata": {},
          "execution_count": 18
        },
        {
          "output_type": "display_data",
          "data": {
            "text/plain": [
              "<Figure size 1152x648 with 1 Axes>"
            ],
            "image/png": "[encoded data removed]"
          },
          "metadata": {
            "needs_background": "light"
          }
        }
      ]
    },
    {
      "cell_type": "markdown",
      "source": [
        "\n",
        "\n",
        "*   3 Year Survival rate is 12.5%\n",
        "*   5 year Survival Rat is 5%\n",
        "\n"
      ],
      "metadata": {
        "id": "I6obng_69Sv7"
      }
    },
    {
      "cell_type": "code",
      "source": [
        "df_effects_of_Primary_surgery_diagonistics=df[[\"Dx.WasPrimExcis\",\"timeline\"]]"
      ],
      "metadata": {
        "id": "YHO5WTBt9UCb"
      },
      "execution_count": 19,
      "outputs": []
    },
    {
      "cell_type": "code",
      "source": [
        "df_effects_of_Primary_surgery_diagonistics.info()"
      ],
      "metadata": {
        "colab": {
          "base_uri": "https://localhost:8080/"
        },
        "id": "zm0n1D-h9bAR",
        "outputId": "dbe8192e-238c-49ac-a03a-579f490fc3b1"
      },
      "execution_count": 20,
      "outputs": [
        {
          "output_type": "stream",
          "name": "stdout",
          "text": [
            "<class 'pandas.core.frame.DataFrame'>\n",
            "RangeIndex: 101 entries, 0 to 100\n",
            "Data columns (total 2 columns):\n",
            " #   Column           Non-Null Count  Dtype\n",
            "---  ------           --------------  -----\n",
            " 0   Dx.WasPrimExcis  101 non-null    int64\n",
            " 1   timeline         101 non-null    int64\n",
            "dtypes: int64(2)\n",
            "memory usage: 1.7 KB\n"
          ]
        }
      ]
    },
    {
      "cell_type": "code",
      "source": [
        "T=df['timeline']\n",
        "E=df['result']"
      ],
      "metadata": {
        "id": "sMDrTWve9diC"
      },
      "execution_count": 21,
      "outputs": []
    },
    {
      "cell_type": "code",
      "source": [
        "ax = plt.subplot(111)\n",
        "\n",
        "m = (df[\"Dx.WasPrimExcis\"] == True)\n",
        "kmf.fit(T[m], event_observed = E[m], label = \"Have_Primary_surgery_in_pancreas\")\n",
        "kmf.plot_survival_function(ax = ax,)\n",
        "kmf.fit(T[~m], event_observed = E[~m], label = \"Dont_Have_tumor_Surgery\")\n",
        "kmf.plot_survival_function(ax = ax,at_risk_counts = False)\n",
        "plt.title(\"Survival of different cohort group\")\n",
        "plt.ylabel('probability of survival')\n",
        "plt.xlabel('Days')"
      ],
      "metadata": {
        "colab": {
          "base_uri": "https://localhost:8080/",
          "height": 312
        },
        "id": "k23uA9H99gu8",
        "outputId": "0b3fc2b5-6223-46a7-bc41-ad6c416b412c"
      },
      "execution_count": 22,
      "outputs": [
        {
          "output_type": "execute_result",
          "data": {
            "text/plain": [
              "Text(0.5, 0, 'Days')"
            ]
          },
          "metadata": {},
          "execution_count": 22
        },
        {
          "output_type": "display_data",
          "data": {
            "text/plain": [
              "<Figure size 432x288 with 1 Axes>"
            ],
            "image/png": "[encoded data removed]"
          },
          "metadata": {
            "needs_background": "light"
          }
        }
      ]
    },
    {
      "cell_type": "code",
      "source": [
        "from lifelines.statistics import logrank_test\n",
        "results = logrank_test(T[m], T[~m], event_observed_A=E[m], event_observed_B=E[~m])\n",
        "print(results.p_value) \n",
        "#Have done Logrank test to actually find our results are statistically significant or not?\n",
        "# P value less tha 0.05 clearly show the result are statistically significant       "
      ],
      "metadata": {
        "colab": {
          "base_uri": "https://localhost:8080/"
        },
        "id": "fpSUeY-H9lyf",
        "outputId": "500e1b49-4677-4e1b-e136-11fe72382906"
      },
      "execution_count": 23,
      "outputs": [
        {
          "output_type": "stream",
          "name": "stdout",
          "text": [
            "0.0007551871170478607\n"
          ]
        }
      ]
    },
    {
      "cell_type": "markdown",
      "source": [
        " **Survival Rate is higher for those whose Primary Tumor is removed via surgery**"
      ],
      "metadata": {
        "id": "GxKL5ond9s_x"
      }
    },
    {
      "cell_type": "markdown",
      "source": [
        "# # Cox Proportional Hazard Model\n"
      ],
      "metadata": {
        "id": "qrT_rHgi93Vf"
      }
    },
    {
      "cell_type": "code",
      "source": [
        "from lifelines import CoxPHFitter"
      ],
      "metadata": {
        "id": "F0EgIFnG967P"
      },
      "execution_count": 24,
      "outputs": []
    },
    {
      "cell_type": "code",
      "source": [
        "df_cox=df[['Dx.Age' ,  'Dx.SzPrim.cm'  ,'Dx.WasPrimExcis' ,'timeline' , 'result']]"
      ],
      "metadata": {
        "id": "Yx52Eznb-AGD"
      },
      "execution_count": 26,
      "outputs": []
    },
    {
      "cell_type": "code",
      "source": [
        "cph = CoxPHFitter()\n",
        "cph.fit(df_cox, duration_col = 'timeline', event_col = 'result')\n",
        "\n",
        "cph.print_summary() "
      ],
      "metadata": {
        "colab": {
          "base_uri": "https://localhost:8080/",
          "height": 572
        },
        "id": "eSHAH1xd-CVf",
        "outputId": "180c5274-fbab-4785-f803-47e405266b56"
      },
      "execution_count": 27,
      "outputs": [
        {
          "output_type": "display_data",
          "data": {
            "text/plain": [
              "<lifelines.CoxPHFitter: fitted with 101 total observations, 0 right-censored observations>\n",
              "             duration col = 'timeline'\n",
              "                event col = 'result'\n",
              "      baseline estimation = breslow\n",
              "   number of observations = 101\n",
              "number of events observed = 101\n",
              "   partial log-likelihood = -362.26\n",
              "         time fit was run = 2022-05-27 14:43:00 UTC\n",
              "\n",
              "---\n",
              "                  coef  exp(coef)   se(coef)   coef lower 95%   coef upper 95%  exp(coef) lower 95%  exp(coef) upper 95%\n",
              "covariate                                                                                                               \n",
              "Dx.Age           -0.00       1.00       0.01            -0.02             0.01                 0.98                 1.01\n",
              "Dx.SzPrim.cm      0.01       1.01       0.07            -0.12             0.14                 0.89                 1.15\n",
              "Dx.WasPrimExcis  -0.74       0.48       0.24            -1.21            -0.27                 0.30                 0.76\n",
              "\n",
              "                  cmp to     z      p   -log2(p)\n",
              "covariate                                       \n",
              "Dx.Age              0.00 -0.42   0.68       0.56\n",
              "Dx.SzPrim.cm        0.00  0.18   0.86       0.22\n",
              "Dx.WasPrimExcis     0.00 -3.09 <0.005       8.95\n",
              "---\n",
              "Concordance = 0.61\n",
              "Partial AIC = 730.52\n",
              "log-likelihood ratio test = 12.19 on 3 df\n",
              "-log2(p) of ll-ratio test = 7.21"
            ],
            "text/html": [
              "<div>\n",
              "<style scoped>\n",
              "    .dataframe tbody tr th:only-of-type {\n",
              "        vertical-align: middle;\n",
              "    }\n",
              "\n",
              "    .dataframe tbody tr th {\n",
              "        vertical-align: top;\n",
              "    }\n",
              "\n",
              "    .dataframe thead th {\n",
              "        text-align: right;\n",
              "    }\n",
              "</style>\n",
              "<table border=\"1\" class=\"dataframe\">\n",
              "  <tbody>\n",
              "    <tr>\n",
              "      <th>model</th>\n",
              "      <td>lifelines.CoxPHFitter</td>\n",
              "    </tr>\n",
              "    <tr>\n",
              "      <th>duration col</th>\n",
              "      <td>'timeline'</td>\n",
              "    </tr>\n",
              "    <tr>\n",
              "      <th>event col</th>\n",
              "      <td>'result'</td>\n",
              "    </tr>\n",
              "    <tr>\n",
              "      <th>baseline estimation</th>\n",
              "      <td>breslow</td>\n",
              "    </tr>\n",
              "    <tr>\n",
              "      <th>number of observations</th>\n",
              "      <td>101</td>\n",
              "    </tr>\n",
              "    <tr>\n",
              "      <th>number of events observed</th>\n",
              "      <td>101</td>\n",
              "    </tr>\n",
              "    <tr>\n",
              "      <th>partial log-likelihood</th>\n",
              "      <td>-362.26</td>\n",
              "    </tr>\n",
              "    <tr>\n",
              "      <th>time fit was run</th>\n",
              "      <td>2022-05-27 14:43:00 UTC</td>\n",
              "    </tr>\n",
              "  </tbody>\n",
              "</table>\n",
              "</div><table border=\"1\" class=\"dataframe\">\n",
              "  <thead>\n",
              "    <tr style=\"text-align: right;\">\n",
              "      <th style=\"min-width: 12px;\"></th>\n",
              "      <th style=\"min-width: 12px;\">coef</th>\n",
              "      <th style=\"min-width: 12px;\">exp(coef)</th>\n",
              "      <th style=\"min-width: 12px;\">se(coef)</th>\n",
              "      <th style=\"min-width: 12px;\">coef lower 95%</th>\n",
              "      <th style=\"min-width: 12px;\">coef upper 95%</th>\n",
              "      <th style=\"min-width: 12px;\">exp(coef) lower 95%</th>\n",
              "      <th style=\"min-width: 12px;\">exp(coef) upper 95%</th>\n",
              "      <th style=\"min-width: 12px;\">cmp to</th>\n",
              "      <th style=\"min-width: 12px;\">z</th>\n",
              "      <th style=\"min-width: 12px;\">p</th>\n",
              "      <th style=\"min-width: 12px;\">-log2(p)</th>\n",
              "    </tr>\n",
              "  </thead>\n",
              "  <tbody>\n",
              "    <tr>\n",
              "      <th>Dx.Age</th>\n",
              "      <td>-0.00</td>\n",
              "      <td>1.00</td>\n",
              "      <td>0.01</td>\n",
              "      <td>-0.02</td>\n",
              "      <td>0.01</td>\n",
              "      <td>0.98</td>\n",
              "      <td>1.01</td>\n",
              "      <td>0.00</td>\n",
              "      <td>-0.42</td>\n",
              "      <td>0.68</td>\n",
              "      <td>0.56</td>\n",
              "    </tr>\n",
              "    <tr>\n",
              "      <th>Dx.SzPrim.cm</th>\n",
              "      <td>0.01</td>\n",
              "      <td>1.01</td>\n",
              "      <td>0.07</td>\n",
              "      <td>-0.12</td>\n",
              "      <td>0.14</td>\n",
              "      <td>0.89</td>\n",
              "      <td>1.15</td>\n",
              "      <td>0.00</td>\n",
              "      <td>0.18</td>\n",
              "      <td>0.86</td>\n",
              "      <td>0.22</td>\n",
              "    </tr>\n",
              "    <tr>\n",
              "      <th>Dx.WasPrimExcis</th>\n",
              "      <td>-0.74</td>\n",
              "      <td>0.48</td>\n",
              "      <td>0.24</td>\n",
              "      <td>-1.21</td>\n",
              "      <td>-0.27</td>\n",
              "      <td>0.30</td>\n",
              "      <td>0.76</td>\n",
              "      <td>0.00</td>\n",
              "      <td>-3.09</td>\n",
              "      <td>&lt;0.005</td>\n",
              "      <td>8.95</td>\n",
              "    </tr>\n",
              "  </tbody>\n",
              "</table><br><div>\n",
              "<style scoped>\n",
              "    .dataframe tbody tr th:only-of-type {\n",
              "        vertical-align: middle;\n",
              "    }\n",
              "\n",
              "    .dataframe tbody tr th {\n",
              "        vertical-align: top;\n",
              "    }\n",
              "\n",
              "    .dataframe thead th {\n",
              "        text-align: right;\n",
              "    }\n",
              "</style>\n",
              "<table border=\"1\" class=\"dataframe\">\n",
              "  <tbody>\n",
              "    <tr>\n",
              "      <th>Concordance</th>\n",
              "      <td>0.61</td>\n",
              "    </tr>\n",
              "    <tr>\n",
              "      <th>Partial AIC</th>\n",
              "      <td>730.52</td>\n",
              "    </tr>\n",
              "    <tr>\n",
              "      <th>log-likelihood ratio test</th>\n",
              "      <td>12.19 on 3 df</td>\n",
              "    </tr>\n",
              "    <tr>\n",
              "      <th>-log2(p) of ll-ratio test</th>\n",
              "      <td>7.21</td>\n",
              "    </tr>\n",
              "  </tbody>\n",
              "</table>\n",
              "</div>"
            ],
            "text/latex": "\\begin{tabular}{lrrrrrrrrrrr}\n\\toprule\n{} &  coef &  exp(coef) &  se(coef) &  coef lower 95\\% &  coef upper 95\\% &  exp(coef) lower 95\\% &  exp(coef) upper 95\\% &  cmp to &     z &    p &  -log2(p) \\\\\ncovariate       &       &            &           &                 &                 &                      &                      &         &       &      &           \\\\\n\\midrule\nDx.Age          & -0.00 &       1.00 &      0.01 &           -0.02 &            0.01 &                 0.98 &                 1.01 &    0.00 & -0.42 & 0.68 &      0.56 \\\\\nDx.SzPrim.cm    &  0.01 &       1.01 &      0.07 &           -0.12 &            0.14 &                 0.89 &                 1.15 &    0.00 &  0.18 & 0.86 &      0.22 \\\\\nDx.WasPrimExcis & -0.74 &       0.48 &      0.24 &           -1.21 &           -0.27 &                 0.30 &                 0.76 &    0.00 & -3.09 & 0.00 &      8.95 \\\\\n\\bottomrule\n\\end{tabular}\n"
          },
          "metadata": {}
        }
      ]
    },
    {
      "cell_type": "markdown",
      "source": [
        "Dx.SzPrim.cm has a coefficient of about 0.01.\n",
        "We can recall that in the Cox proportional hazard model, a higher hazard means more at risk of the event occurring. The value exp(0.01) is called the hazard ratio\n",
        "Here, a one unit increase in Dx.SzPrim.cm means the baseline hazard will increase by a factor of exp(0.01)= 1.01 -> about a 1% increase\n"
      ],
      "metadata": {
        "id": "IjPQVSUk-J3z"
      }
    },
    {
      "cell_type": "code",
      "source": [
        "plt.subplots(figsize=(10, 6))\n",
        "cph.plot()\n",
        "# PLOTTING THE DIFFERENT COEEFIENT IN TERMS OF LOG HAZARD"
      ],
      "metadata": {
        "colab": {
          "base_uri": "https://localhost:8080/",
          "height": 405
        },
        "id": "quP5jWWX-LEN",
        "outputId": "93518567-2008-4108-ea18-f8e8efd0749a"
      },
      "execution_count": 28,
      "outputs": [
        {
          "output_type": "execute_result",
          "data": {
            "text/plain": [
              "<matplotlib.axes._subplots.AxesSubplot at 0x7f5a8f3f4410>"
            ]
          },
          "metadata": {},
          "execution_count": 28
        },
        {
          "output_type": "display_data",
          "data": {
            "text/plain": [
              "<Figure size 720x432 with 1 Axes>"
            ],
            "image/png": "[encoded data removed]"
          },
          "metadata": {
            "needs_background": "light"
          }
        }
      ]
    },
    {
      "cell_type": "code",
      "source": [
        "# plot the servival function for different covarient for ex. for diff age value\n",
        "cph.plot_partial_effects_on_outcome(covariates = 'Dx.WasPrimExcis',\n",
        "                                    values = [0,1],\n",
        "                                    cmap = 'coolwarm')"
      ],
      "metadata": {
        "colab": {
          "base_uri": "https://localhost:8080/",
          "height": 282
        },
        "id": "vS08jpU2-QyM",
        "outputId": "486877d7-1b00-4475-d9da-0f981ddd3c4b"
      },
      "execution_count": 29,
      "outputs": [
        {
          "output_type": "execute_result",
          "data": {
            "text/plain": [
              "<matplotlib.axes._subplots.AxesSubplot at 0x7f5a8f333190>"
            ]
          },
          "metadata": {},
          "execution_count": 29
        },
        {
          "output_type": "display_data",
          "data": {
            "text/plain": [
              "<Figure size 432x288 with 1 Axes>"
            ],
            "image/png": "[encoded data removed]"
          },
          "metadata": {
            "needs_background": "light"
          }
        }
      ]
    },
    {
      "cell_type": "code",
      "source": [
        "cph.check_assumptions(df_cox, p_value_threshold = 0.05)"
      ],
      "metadata": {
        "colab": {
          "base_uri": "https://localhost:8080/",
          "height": 1000
        },
        "id": "f1M5OvKW-TFl",
        "outputId": "120a9b23-40b5-4695-d2f9-4d9b870b385c"
      },
      "execution_count": 30,
      "outputs": [
        {
          "output_type": "stream",
          "name": "stdout",
          "text": [
            "The ``p_value_threshold`` is set at 0.05. Even under the null hypothesis of no violations, some\n",
            "covariates will be below the threshold by chance. This is compounded when there are many covariates.\n",
            "Similarly, when there are lots of observations, even minor deviances from the proportional hazard\n",
            "assumption will be flagged.\n",
            "\n",
            "With that in mind, it's best to use a combination of statistical tests and visual tests to determine\n",
            "the most serious violations. Produce visual plots using ``check_assumptions(..., show_plots=True)``\n",
            "and looking for non-constant lines. See link [A] below for a full example.\n",
            "\n"
          ]
        },
        {
          "output_type": "stream",
          "name": "stderr",
          "text": [
            "/usr/local/lib/python3.7/dist-packages/lifelines/fitters/mixins.py:108: FutureWarning: Index.__and__ operating as a set operation is deprecated, in the future this will be a logical operation matching Series.__and__.  Use index.intersection(other) instead\n",
            "  for variable in self.params_.index & (columns or self.params_.index):\n"
          ]
        },
        {
          "output_type": "display_data",
          "data": {
            "text/plain": [
              "<lifelines.StatisticalResult: proportional_hazard_test>\n",
              " null_distribution = chi squared\n",
              "degrees_of_freedom = 1\n",
              "             model = <lifelines.CoxPHFitter: fitted with 101 total observations, 0 right-censored observations>\n",
              "         test_name = proportional_hazard_test\n",
              "\n",
              "---\n",
              "                      test_statistic      p  -log2(p)\n",
              "Dx.Age          km              5.13   0.02      5.41\n",
              "                rank            5.10   0.02      5.39\n",
              "Dx.SzPrim.cm    km              4.54   0.03      4.92\n",
              "                rank            4.55   0.03      4.92\n",
              "Dx.WasPrimExcis km              8.46 <0.005      8.10\n",
              "                rank            8.48 <0.005      8.12"
            ],
            "text/html": [
              "<div>\n",
              "<style scoped>\n",
              "    .dataframe tbody tr th:only-of-type {\n",
              "        vertical-align: middle;\n",
              "    }\n",
              "\n",
              "    .dataframe tbody tr th {\n",
              "        vertical-align: top;\n",
              "    }\n",
              "\n",
              "    .dataframe thead th {\n",
              "        text-align: right;\n",
              "    }\n",
              "</style>\n",
              "<table border=\"1\" class=\"dataframe\">\n",
              "  <tbody>\n",
              "    <tr>\n",
              "      <th>null_distribution</th>\n",
              "      <td>chi squared</td>\n",
              "    </tr>\n",
              "    <tr>\n",
              "      <th>degrees_of_freedom</th>\n",
              "      <td>1</td>\n",
              "    </tr>\n",
              "    <tr>\n",
              "      <th>model</th>\n",
              "      <td>&lt;lifelines.CoxPHFitter: fitted with 101 total ...</td>\n",
              "    </tr>\n",
              "    <tr>\n",
              "      <th>test_name</th>\n",
              "      <td>proportional_hazard_test</td>\n",
              "    </tr>\n",
              "  </tbody>\n",
              "</table>\n",
              "</div><table border=\"1\" class=\"dataframe\">\n",
              "  <thead>\n",
              "    <tr style=\"text-align: right;\">\n",
              "      <th></th>\n",
              "      <th></th>\n",
              "      <th>test_statistic</th>\n",
              "      <th>p</th>\n",
              "      <th>-log2(p)</th>\n",
              "    </tr>\n",
              "  </thead>\n",
              "  <tbody>\n",
              "    <tr>\n",
              "      <th rowspan=\"2\" valign=\"top\">Dx.Age</th>\n",
              "      <th>km</th>\n",
              "      <td>5.13</td>\n",
              "      <td>0.02</td>\n",
              "      <td>5.41</td>\n",
              "    </tr>\n",
              "    <tr>\n",
              "      <th>rank</th>\n",
              "      <td>5.10</td>\n",
              "      <td>0.02</td>\n",
              "      <td>5.39</td>\n",
              "    </tr>\n",
              "    <tr>\n",
              "      <th rowspan=\"2\" valign=\"top\">Dx.SzPrim.cm</th>\n",
              "      <th>km</th>\n",
              "      <td>4.54</td>\n",
              "      <td>0.03</td>\n",
              "      <td>4.92</td>\n",
              "    </tr>\n",
              "    <tr>\n",
              "      <th>rank</th>\n",
              "      <td>4.55</td>\n",
              "      <td>0.03</td>\n",
              "      <td>4.92</td>\n",
              "    </tr>\n",
              "    <tr>\n",
              "      <th rowspan=\"2\" valign=\"top\">Dx.WasPrimExcis</th>\n",
              "      <th>km</th>\n",
              "      <td>8.46</td>\n",
              "      <td>&lt;0.005</td>\n",
              "      <td>8.10</td>\n",
              "    </tr>\n",
              "    <tr>\n",
              "      <th>rank</th>\n",
              "      <td>8.48</td>\n",
              "      <td>&lt;0.005</td>\n",
              "      <td>8.12</td>\n",
              "    </tr>\n",
              "  </tbody>\n",
              "</table>"
            ],
            "text/latex": "\\begin{tabular}{llrrr}\n\\toprule\n                &      &  test\\_statistic &         p &  -log2(p) \\\\\n\\midrule\nDx.Age & km &        5.127914 &  0.023544 &  5.408496 \\\\\n                & rank &        5.100958 &  0.023913 &  5.386083 \\\\\nDx.SzPrim.cm & km &        4.542567 &  0.033062 &  4.918684 \\\\\n                & rank &        4.546275 &  0.032990 &  4.921808 \\\\\nDx.WasPrimExcis & km &        8.456141 &  0.003638 &  8.102587 \\\\\n                & rank &        8.475099 &  0.003600 &  8.117624 \\\\\n\\bottomrule\n\\end{tabular}\n"
          },
          "metadata": {}
        },
        {
          "output_type": "stream",
          "name": "stdout",
          "text": [
            "\n",
            "\n",
            "1. Variable 'Dx.Age' failed the non-proportional test: p-value is 0.0235.\n",
            "\n",
            "   Advice 1: the functional form of the variable 'Dx.Age' might be incorrect. That is, there may be\n",
            "non-linear terms missing. The proportional hazard test used is very sensitive to incorrect\n",
            "functional forms. See documentation in link [D] below on how to specify a functional form.\n",
            "\n",
            "   Advice 2: try binning the variable 'Dx.Age' using pd.cut, and then specify it in\n",
            "`strata=['Dx.Age', ...]` in the call in `.fit`. See documentation in link [B] below.\n",
            "\n",
            "   Advice 3: try adding an interaction term with your time variable. See documentation in link [C]\n",
            "below.\n",
            "\n",
            "\n",
            "2. Variable 'Dx.SzPrim.cm' failed the non-proportional test: p-value is 0.0330.\n",
            "\n",
            "   Advice 1: the functional form of the variable 'Dx.SzPrim.cm' might be incorrect. That is, there\n",
            "may be non-linear terms missing. The proportional hazard test used is very sensitive to incorrect\n",
            "functional forms. See documentation in link [D] below on how to specify a functional form.\n",
            "\n",
            "   Advice 2: try binning the variable 'Dx.SzPrim.cm' using pd.cut, and then specify it in\n",
            "`strata=['Dx.SzPrim.cm', ...]` in the call in `.fit`. See documentation in link [B] below.\n",
            "\n",
            "   Advice 3: try adding an interaction term with your time variable. See documentation in link [C]\n",
            "below.\n",
            "\n",
            "\n",
            "3. Variable 'Dx.WasPrimExcis' failed the non-proportional test: p-value is 0.0036.\n",
            "\n",
            "   Advice: with so few unique values (only 2), you can include `strata=['Dx.WasPrimExcis', ...]` in\n",
            "the call in `.fit`. See documentation in link [E] below.\n",
            "\n",
            "---\n",
            "[A]  https://lifelines.readthedocs.io/en/latest/jupyter_notebooks/Proportional%20hazard%20assumption.html\n",
            "[B]  https://lifelines.readthedocs.io/en/latest/jupyter_notebooks/Proportional%20hazard%20assumption.html#Bin-variable-and-stratify-on-it\n",
            "[C]  https://lifelines.readthedocs.io/en/latest/jupyter_notebooks/Proportional%20hazard%20assumption.html#Introduce-time-varying-covariates\n",
            "[D]  https://lifelines.readthedocs.io/en/latest/jupyter_notebooks/Proportional%20hazard%20assumption.html#Modify-the-functional-form\n",
            "[E]  https://lifelines.readthedocs.io/en/latest/jupyter_notebooks/Proportional%20hazard%20assumption.html#Stratification\n",
            "\n"
          ]
        },
        {
          "output_type": "execute_result",
          "data": {
            "text/plain": [
              "[]"
            ]
          },
          "metadata": {},
          "execution_count": 30
        }
      ]
    },
    {
      "cell_type": "markdown",
      "source": [
        "# Weibull  Parametric Model\n"
      ],
      "metadata": {
        "id": "OOEYQztx-Wd6"
      }
    },
    {
      "cell_type": "code",
      "source": [
        "# Weibull Model Parametric Model\n",
        "from lifelines import WeibullFitter,\\\n",
        "                      ExponentialFitter,\\\n",
        "                      LogNormalFitter,\\\n",
        "                      LogLogisticFitter\n",
        "\n",
        "\n",
        "# Instantiate each fitter\n",
        "wb = WeibullFitter()\n",
        "ex = ExponentialFitter()\n",
        "log = LogNormalFitter()\n",
        "loglogis = LogLogisticFitter()\n",
        "\n",
        "# Fit to data\n",
        "for model in [wb, ex, log, loglogis]:\n",
        "  model.fit(durations = df_cox[\"timeline\"],\n",
        "            event_observed = df_cox[\"result\"])\n",
        "  # Print AIC\n",
        "  print(\"The AIC value for\", model.__class__.__name__, \"is\", model.AIC_)\n",
        "\n",
        "  # lower the AIC value better will be the model\n",
        "  "
      ],
      "metadata": {
        "colab": {
          "base_uri": "https://localhost:8080/"
        },
        "id": "9g2CQKtw-tV-",
        "outputId": "4572d92d-1d31-46ce-a60d-631c97cf11b2"
      },
      "execution_count": 31,
      "outputs": [
        {
          "output_type": "stream",
          "name": "stdout",
          "text": [
            "The AIC value for WeibullFitter is 1460.0054689927233\n",
            "The AIC value for ExponentialFitter is 1460.6744896129435\n",
            "The AIC value for LogNormalFitter is 1466.1621335907662\n",
            "The AIC value for LogLogisticFitter is 1466.2825956415645\n"
          ]
        }
      ]
    },
    {
      "cell_type": "code",
      "source": [
        "from lifelines import WeibullAFTFitter\n",
        "weibull_aft = WeibullAFTFitter()\n",
        "weibull_aft.fit(df_cox, duration_col='timeline', event_col='result')\n",
        "\n",
        "weibull_aft.print_summary()\n",
        "# exp(coeff) is accelaration factor sometimes called as time ratio"
      ],
      "metadata": {
        "colab": {
          "base_uri": "https://localhost:8080/",
          "height": 603
        },
        "id": "Bvm0GycX_ReU",
        "outputId": "a8b524ed-c2f3-4595-c56e-371c8e0209bc"
      },
      "execution_count": 32,
      "outputs": [
        {
          "output_type": "display_data",
          "data": {
            "text/plain": [
              "<lifelines.WeibullAFTFitter: fitted with 101 total observations, 0 right-censored observations>\n",
              "             duration col = 'timeline'\n",
              "                event col = 'result'\n",
              "   number of observations = 101\n",
              "number of events observed = 101\n",
              "           log-likelihood = -722.22\n",
              "         time fit was run = 2022-05-27 14:48:25 UTC\n",
              "\n",
              "---\n",
              "                          coef  exp(coef)   se(coef)   coef lower 95%   coef upper 95%  exp(coef) lower 95%  exp(coef) upper 95%\n",
              "param   covariate                                                                                                               \n",
              "lambda_ Dx.Age            0.00       1.00       0.01            -0.01             0.02                 0.99                 1.02\n",
              "        Dx.SzPrim.cm      0.01       1.01       0.06            -0.10             0.12                 0.90                 1.12\n",
              "        Dx.WasPrimExcis   0.61       1.84       0.20             0.21             1.00                 1.24                 2.73\n",
              "        Intercept         5.77     320.29       0.51             4.78             6.76               118.64               864.66\n",
              "rho_    Intercept         0.16       1.18       0.07             0.02             0.31                 1.02                 1.37\n",
              "\n",
              "                          cmp to     z      p   -log2(p)\n",
              "param   covariate                                       \n",
              "lambda_ Dx.Age              0.00  0.61   0.54       0.88\n",
              "        Dx.SzPrim.cm        0.00  0.11   0.91       0.14\n",
              "        Dx.WasPrimExcis     0.00  3.01 <0.005       8.60\n",
              "        Intercept           0.00 11.39 <0.005      97.36\n",
              "rho_    Intercept           0.00  2.20   0.03       5.18\n",
              "---\n",
              "Concordance = 0.58\n",
              "AIC = 1454.43\n",
              "log-likelihood ratio test = 11.57 on 3 df\n",
              "-log2(p) of ll-ratio test = 6.80"
            ],
            "text/html": [
              "<div>\n",
              "<style scoped>\n",
              "    .dataframe tbody tr th:only-of-type {\n",
              "        vertical-align: middle;\n",
              "    }\n",
              "\n",
              "    .dataframe tbody tr th {\n",
              "        vertical-align: top;\n",
              "    }\n",
              "\n",
              "    .dataframe thead th {\n",
              "        text-align: right;\n",
              "    }\n",
              "</style>\n",
              "<table border=\"1\" class=\"dataframe\">\n",
              "  <tbody>\n",
              "    <tr>\n",
              "      <th>model</th>\n",
              "      <td>lifelines.WeibullAFTFitter</td>\n",
              "    </tr>\n",
              "    <tr>\n",
              "      <th>duration col</th>\n",
              "      <td>'timeline'</td>\n",
              "    </tr>\n",
              "    <tr>\n",
              "      <th>event col</th>\n",
              "      <td>'result'</td>\n",
              "    </tr>\n",
              "    <tr>\n",
              "      <th>number of observations</th>\n",
              "      <td>101</td>\n",
              "    </tr>\n",
              "    <tr>\n",
              "      <th>number of events observed</th>\n",
              "      <td>101</td>\n",
              "    </tr>\n",
              "    <tr>\n",
              "      <th>log-likelihood</th>\n",
              "      <td>-722.22</td>\n",
              "    </tr>\n",
              "    <tr>\n",
              "      <th>time fit was run</th>\n",
              "      <td>2022-05-27 14:48:25 UTC</td>\n",
              "    </tr>\n",
              "  </tbody>\n",
              "</table>\n",
              "</div><table border=\"1\" class=\"dataframe\">\n",
              "  <thead>\n",
              "    <tr style=\"text-align: right;\">\n",
              "      <th style=\"min-width: 12px;\"></th>\n",
              "      <th style=\"min-width: 12px;\"></th>\n",
              "      <th style=\"min-width: 12px;\">coef</th>\n",
              "      <th style=\"min-width: 12px;\">exp(coef)</th>\n",
              "      <th style=\"min-width: 12px;\">se(coef)</th>\n",
              "      <th style=\"min-width: 12px;\">coef lower 95%</th>\n",
              "      <th style=\"min-width: 12px;\">coef upper 95%</th>\n",
              "      <th style=\"min-width: 12px;\">exp(coef) lower 95%</th>\n",
              "      <th style=\"min-width: 12px;\">exp(coef) upper 95%</th>\n",
              "      <th style=\"min-width: 12px;\">cmp to</th>\n",
              "      <th style=\"min-width: 12px;\">z</th>\n",
              "      <th style=\"min-width: 12px;\">p</th>\n",
              "      <th style=\"min-width: 12px;\">-log2(p)</th>\n",
              "    </tr>\n",
              "  </thead>\n",
              "  <tbody>\n",
              "    <tr>\n",
              "      <th rowspan=\"4\" valign=\"top\">lambda_</th>\n",
              "      <th>Dx.Age</th>\n",
              "      <td>0.00</td>\n",
              "      <td>1.00</td>\n",
              "      <td>0.01</td>\n",
              "      <td>-0.01</td>\n",
              "      <td>0.02</td>\n",
              "      <td>0.99</td>\n",
              "      <td>1.02</td>\n",
              "      <td>0.00</td>\n",
              "      <td>0.61</td>\n",
              "      <td>0.54</td>\n",
              "      <td>0.88</td>\n",
              "    </tr>\n",
              "    <tr>\n",
              "      <th>Dx.SzPrim.cm</th>\n",
              "      <td>0.01</td>\n",
              "      <td>1.01</td>\n",
              "      <td>0.06</td>\n",
              "      <td>-0.10</td>\n",
              "      <td>0.12</td>\n",
              "      <td>0.90</td>\n",
              "      <td>1.12</td>\n",
              "      <td>0.00</td>\n",
              "      <td>0.11</td>\n",
              "      <td>0.91</td>\n",
              "      <td>0.14</td>\n",
              "    </tr>\n",
              "    <tr>\n",
              "      <th>Dx.WasPrimExcis</th>\n",
              "      <td>0.61</td>\n",
              "      <td>1.84</td>\n",
              "      <td>0.20</td>\n",
              "      <td>0.21</td>\n",
              "      <td>1.00</td>\n",
              "      <td>1.24</td>\n",
              "      <td>2.73</td>\n",
              "      <td>0.00</td>\n",
              "      <td>3.01</td>\n",
              "      <td>&lt;0.005</td>\n",
              "      <td>8.60</td>\n",
              "    </tr>\n",
              "    <tr>\n",
              "      <th>Intercept</th>\n",
              "      <td>5.77</td>\n",
              "      <td>320.29</td>\n",
              "      <td>0.51</td>\n",
              "      <td>4.78</td>\n",
              "      <td>6.76</td>\n",
              "      <td>118.64</td>\n",
              "      <td>864.66</td>\n",
              "      <td>0.00</td>\n",
              "      <td>11.39</td>\n",
              "      <td>&lt;0.005</td>\n",
              "      <td>97.36</td>\n",
              "    </tr>\n",
              "    <tr>\n",
              "      <th>rho_</th>\n",
              "      <th>Intercept</th>\n",
              "      <td>0.16</td>\n",
              "      <td>1.18</td>\n",
              "      <td>0.07</td>\n",
              "      <td>0.02</td>\n",
              "      <td>0.31</td>\n",
              "      <td>1.02</td>\n",
              "      <td>1.37</td>\n",
              "      <td>0.00</td>\n",
              "      <td>2.20</td>\n",
              "      <td>0.03</td>\n",
              "      <td>5.18</td>\n",
              "    </tr>\n",
              "  </tbody>\n",
              "</table><br><div>\n",
              "<style scoped>\n",
              "    .dataframe tbody tr th:only-of-type {\n",
              "        vertical-align: middle;\n",
              "    }\n",
              "\n",
              "    .dataframe tbody tr th {\n",
              "        vertical-align: top;\n",
              "    }\n",
              "\n",
              "    .dataframe thead th {\n",
              "        text-align: right;\n",
              "    }\n",
              "</style>\n",
              "<table border=\"1\" class=\"dataframe\">\n",
              "  <tbody>\n",
              "    <tr>\n",
              "      <th>Concordance</th>\n",
              "      <td>0.58</td>\n",
              "    </tr>\n",
              "    <tr>\n",
              "      <th>AIC</th>\n",
              "      <td>1454.43</td>\n",
              "    </tr>\n",
              "    <tr>\n",
              "      <th>log-likelihood ratio test</th>\n",
              "      <td>11.57 on 3 df</td>\n",
              "    </tr>\n",
              "    <tr>\n",
              "      <th>-log2(p) of ll-ratio test</th>\n",
              "      <td>6.80</td>\n",
              "    </tr>\n",
              "  </tbody>\n",
              "</table>\n",
              "</div>"
            ],
            "text/latex": "\\begin{tabular}{llrrrrrrrrrrr}\n\\toprule\n     &           &  coef &  exp(coef) &  se(coef) &  coef lower 95\\% &  coef upper 95\\% &  exp(coef) lower 95\\% &  exp(coef) upper 95\\% &  cmp to &     z &    p &  -log2(p) \\\\\nparam & covariate &       &            &           &                 &                 &                      &                      &         &       &      &           \\\\\n\\midrule\nlambda\\_ & Dx.Age &  0.00 &       1.00 &      0.01 &           -0.01 &            0.02 &                 0.99 &                 1.02 &    0.00 &  0.61 & 0.54 &      0.88 \\\\\n     & Dx.SzPrim.cm &  0.01 &       1.01 &      0.06 &           -0.10 &            0.12 &                 0.90 &                 1.12 &    0.00 &  0.11 & 0.91 &      0.14 \\\\\n     & Dx.WasPrimExcis &  0.61 &       1.84 &      0.20 &            0.21 &            1.00 &                 1.24 &                 2.73 &    0.00 &  3.01 & 0.00 &      8.60 \\\\\n     & Intercept &  5.77 &     320.29 &      0.51 &            4.78 &            6.76 &               118.64 &               864.66 &    0.00 & 11.39 & 0.00 &     97.36 \\\\\nrho\\_ & Intercept &  0.16 &       1.18 &      0.07 &            0.02 &            0.31 &                 1.02 &                 1.37 &    0.00 &  2.20 & 0.03 &      5.18 \\\\\n\\bottomrule\n\\end{tabular}\n"
          },
          "metadata": {}
        }
      ]
    },
    {
      "cell_type": "code",
      "source": [
        "print(weibull_aft.median_survival_time_)\n",
        "print(weibull_aft.mean_survival_time_)"
      ],
      "metadata": {
        "colab": {
          "base_uri": "https://localhost:8080/"
        },
        "id": "psEbiW5l_VDu",
        "outputId": "3ea7e81c-a7c7-48d7-ff0c-c81e637a9552"
      },
      "execution_count": 33,
      "outputs": [
        {
          "output_type": "stream",
          "name": "stdout",
          "text": [
            "320.60856660648767\n",
            "413.4163982549553\n"
          ]
        }
      ]
    },
    {
      "cell_type": "code",
      "source": [
        "plt.subplots(figsize=(10, 6))\n",
        "weibull_aft.plot_partial_effects_on_outcome('Dx.WasPrimExcis',[0,1], cmap='coolwarm')\n"
      ],
      "metadata": {
        "colab": {
          "base_uri": "https://localhost:8080/",
          "height": 391
        },
        "id": "6fm8z8j5_YeC",
        "outputId": "6a28515d-a19e-46aa-fe2c-1da113845d56"
      },
      "execution_count": 34,
      "outputs": [
        {
          "output_type": "execute_result",
          "data": {
            "text/plain": [
              "<matplotlib.axes._subplots.AxesSubplot at 0x7f5a8f2f0810>"
            ]
          },
          "metadata": {},
          "execution_count": 34
        },
        {
          "output_type": "display_data",
          "data": {
            "text/plain": [
              "<Figure size 720x432 with 1 Axes>"
            ],
            "image/png": "[encoded data removed]"
          },
          "metadata": {
            "needs_background": "light"
          }
        }
      ]
    },
    {
      "cell_type": "code",
      "source": [
        "plt.subplots(figsize=(10, 6))\n",
        "weibull_aft.plot_partial_effects_on_outcome('Dx.Age',[50,60,70,80], cmap='coolwarm')\n"
      ],
      "metadata": {
        "colab": {
          "base_uri": "https://localhost:8080/",
          "height": 391
        },
        "id": "Ml3L8efJ_cM6",
        "outputId": "a7907fda-dba6-4d09-d498-86a58c14013e"
      },
      "execution_count": 35,
      "outputs": [
        {
          "output_type": "execute_result",
          "data": {
            "text/plain": [
              "<matplotlib.axes._subplots.AxesSubplot at 0x7f5a8f22eb10>"
            ]
          },
          "metadata": {},
          "execution_count": 35
        },
        {
          "output_type": "display_data",
          "data": {
            "text/plain": [
              "<Figure size 720x432 with 1 Axes>"
            ],
            "image/png": "[encoded data removed]"
          },
          "metadata": {
            "needs_background": "light"
          }
        }
      ]
    }
  ]
}
